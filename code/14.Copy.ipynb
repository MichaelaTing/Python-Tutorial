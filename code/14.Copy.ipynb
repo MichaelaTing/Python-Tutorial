{
 "cells": [
  {
   "cell_type": "markdown",
   "metadata": {},
   "source": [
    "# 复制\n",
    "深拷贝是 Deep Copy，浅拷贝是 Shallow Copy。 \n",
    "\n",
    "Deep copy 就是通常意义上的复制，把东西再造了一遍，彻底成为了两个独立的个体。 而 Shallow Copy 有影子拷贝的意思，复制出来的是投影成像，真实的实体是没有被复制的，只复制了这个实体的一个投影而已。\n",
    "\n",
    "在Python中，列表中直接存放的数值，字符，和存 class 实例，列表，字典不同。 对数值字符的复制，直接是复制的值，而不是一个投影。"
   ]
  },
  {
   "cell_type": "code",
   "execution_count": 1,
   "metadata": {},
   "outputs": [
    {
     "name": "stdout",
     "output_type": "stream",
     "text": [
      "[[-1], [2], 3]\n",
      "[[-1], [2], 3]\n",
      "mp4\n"
     ]
    }
   ],
   "source": [
    "# 浅拷贝\n",
    "l = [[1],[2],3]\n",
    "_l = l.copy()\n",
    "_l[0][0] = -1\n",
    "print(_l)\n",
    "print(l)\n",
    "\n",
    "class File:\n",
    "    def __init__(self, name):\n",
    "        self.name = name\n",
    "\n",
    "audio = File(\"mp3\")\n",
    "file = File(\"txt\")\n",
    "l = [audio, file]\n",
    "_l = l.copy()\n",
    "_l[0].name = \"mp4\"\n",
    "print(audio.name) "
   ]
  },
  {
   "cell_type": "code",
   "execution_count": 2,
   "metadata": {},
   "outputs": [
    {
     "name": "stdout",
     "output_type": "stream",
     "text": [
      "[[-1], [2], 3]\n",
      "[[1], [2], 3]\n"
     ]
    }
   ],
   "source": [
    "# 深拷贝\n",
    "from copy import deepcopy\n",
    "l = [[1],[2],3]\n",
    "_l = deepcopy(l)\n",
    "_l[0][0] = -1\n",
    "print(_l)\n",
    "print(l)"
   ]
  }
 ],
 "metadata": {
  "kernelspec": {
   "display_name": "Python 3.8.6 ('torch')",
   "language": "python",
   "name": "python3"
  },
  "language_info": {
   "codemirror_mode": {
    "name": "ipython",
    "version": 3
   },
   "file_extension": ".py",
   "mimetype": "text/x-python",
   "name": "python",
   "nbconvert_exporter": "python",
   "pygments_lexer": "ipython3",
   "version": "3.8.6 | packaged by conda-forge | (default, Oct  7 2020, 18:42:56) \n[Clang 10.0.1 ]"
  },
  "orig_nbformat": 4,
  "vscode": {
   "interpreter": {
    "hash": "59a952c6e241a26c2846444102601f9ad365365f06d32145faf788e20fd176b1"
   }
  }
 },
 "nbformat": 4,
 "nbformat_minor": 2
}
