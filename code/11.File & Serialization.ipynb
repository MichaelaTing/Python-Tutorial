{
 "cells": [
  {
   "cell_type": "markdown",
   "metadata": {},
   "source": [
    "# 文件管理\n",
    "\n",
    "## 文件目录管理\n",
    "\n",
    "### 文件目录操作"
   ]
  },
  {
   "cell_type": "code",
   "execution_count": null,
   "metadata": {},
   "outputs": [],
   "source": [
    "import os \n",
    "print(\"当前目录：\", os.getcwd())\n",
    "print(\"当前目录里有什么：\", os.listdir())\n",
    "os.makedirs(\"file\", exist_ok=True)\n",
    "print(os.path.exists(\"file\"))"
   ]
  },
  {
   "cell_type": "markdown",
   "metadata": {},
   "source": [
    "### 文件管理系统"
   ]
  },
  {
   "cell_type": "code",
   "execution_count": null,
   "metadata": {},
   "outputs": [],
   "source": [
    "# 创建用户文件夹\n",
    "if os.path.exists(\"file/user/user_name\"):\n",
    "    print(\"user exist\")\n",
    "else:\n",
    "    os.makedirs(\"file/user/user_name\")\n",
    "    print(\"user created\")\n",
    "print(os.listdir(\"file/user\"))"
   ]
  },
  {
   "cell_type": "code",
   "execution_count": null,
   "metadata": {},
   "outputs": [],
   "source": [
    "# 删除用户文件夹\n",
    "if os.path.exists(\"file/user/user_name\"):\n",
    "    os.removedirs(\"file/user/user_name\")\n",
    "    print(\"user removed\")\n",
    "else:\n",
    "    print(\"user not exist\")"
   ]
  },
  {
   "cell_type": "code",
   "execution_count": null,
   "metadata": {},
   "outputs": [],
   "source": [
    "# 文件夹里有文件不为空，就会报错\n",
    "os.makedirs(\"file/user/user_name\", exist_ok=True)\n",
    "with open(\"file/user/user_name/a.txt\", \"w\") as f:\n",
    "    f.write(\"nothing\")\n",
    "os.removedirs(\"file/user/user_name\")  # 这里会报错"
   ]
  },
  {
   "cell_type": "markdown",
   "metadata": {},
   "source": [
    "可以用到另一个库叫做 `shutil`，但是要注意，这个库太强大了，它可以清空整个目录，一定要小心！"
   ]
  },
  {
   "cell_type": "code",
   "execution_count": null,
   "metadata": {},
   "outputs": [],
   "source": [
    "import shutil\n",
    "shutil.rmtree(\"file/user/user_name\")\n",
    "print(os.listdir(\"file/user\"))"
   ]
  },
  {
   "cell_type": "code",
   "execution_count": null,
   "metadata": {},
   "outputs": [],
   "source": [
    "# 改名字\n",
    "os.makedirs(\"file/user/user_name\", exist_ok=True)\n",
    "os.rename(\"file/user/user_name\", \"file/user/user_namepy\")\n",
    "print(os.listdir(\"file/user\"))"
   ]
  },
  {
   "cell_type": "markdown",
   "metadata": {},
   "source": [
    "### 文件目录多种检验"
   ]
  },
  {
   "cell_type": "code",
   "execution_count": null,
   "metadata": {},
   "outputs": [],
   "source": [
    "# 判断是否是一个文件或者是否是一个文件夹\n",
    "import os\n",
    "os.makedirs(\"file/user/user_name\", exist_ok=True)\n",
    "with open(\"file/user/user_name/a.txt\", \"w\") as f:\n",
    "    f.write(\"nothing\")\n",
    "print(os.path.isfile(\"file/user/user_name/a.txt\")) # True\n",
    "print(os.path.exists(\"file/user/user_name/a.txt\")) # True\n",
    "print(os.path.isdir(\"file/user/user_name/a.txt\")) # False\n",
    "print(os.path.isdir(\"file/user/user_name\"))  # True"
   ]
  },
  {
   "cell_type": "code",
   "execution_count": null,
   "metadata": {},
   "outputs": [],
   "source": [
    "# 告诉一个文件目录，想为这个文件创建副本\n",
    "import os\n",
    "import shutil\n",
    "\n",
    "def copy(path):\n",
    "    filename = os.path.basename(path)   # 文件名\n",
    "    dir_name = os.path.dirname(path)    # 文件夹名\n",
    "    new_filename = \"new_\" + filename    # 新文件名\n",
    "    new_path = os.path.join(dir_name, new_filename) # 目录重组\n",
    "    shutil.copy2(path, new_path)   # 复制文件\n",
    "    return os.path.isfile(new_path), new_path\n",
    "\n",
    "copied, new_path = copy(\"file/user/user_name/a.txt\")\n",
    "if copied:\n",
    "    print(\"copied to:\", new_path)\n",
    "else:\n",
    "    print(\"copy failed\")"
   ]
  },
  {
   "cell_type": "code",
   "execution_count": null,
   "metadata": {},
   "outputs": [],
   "source": [
    "# 更方便的功能代替拿文件名和文件夹名的工作\n",
    "def copy(path):\n",
    "    dir_name, filename = os.path.split(path)\n",
    "    new_filename = \"new2_\" + filename    # 新文件名\n",
    "    new_path = os.path.join(dir_name, new_filename) # 目录重组\n",
    "    shutil.copy2(path, new_path)   # 复制文件\n",
    "    return os.path.isfile(new_path), new_path\n",
    "\n",
    "copied, new_path = copy(\"file/user/user_name/a.txt\")\n",
    "if copied:\n",
    "    print(\"copied to:\", new_path)\n",
    "else:\n",
    "    print(\"copy failed\")"
   ]
  },
  {
   "cell_type": "markdown",
   "metadata": {},
   "source": [
    "## 读写文件\n",
    "\n",
    "### 创建文件"
   ]
  },
  {
   "cell_type": "code",
   "execution_count": 23,
   "metadata": {},
   "outputs": [],
   "source": [
    "f = open(\"file/new_file.txt\", \"w\")   # 创建并打开\n",
    "f.write(\"some text...\")         # 在文件里写东西\n",
    "f.close()                       # 关闭"
   ]
  },
  {
   "cell_type": "markdown",
   "metadata": {},
   "source": [
    "把打开和关闭嵌入到了一个 `with` 架构中，再也不用担心忘记关闭文件了。`writelines()`当传入的是列表样的数据时，列表中的每个元素就是一行记录，数据会分行来写。\n",
    "\n",
    "注意，在列表里，每个元素最后都最好写一个`\\n`来表示要另起一行，不然读出来的时候就黏在一起了。"
   ]
  },
  {
   "cell_type": "code",
   "execution_count": 24,
   "metadata": {},
   "outputs": [],
   "source": [
    "with open(\"file/new_file.txt\", \"w\") as f:\n",
    "    f.writelines([\"some text for new file...\\n\", \"2nd line\\n\"])"
   ]
  },
  {
   "cell_type": "markdown",
   "metadata": {},
   "source": [
    "### 读文件"
   ]
  },
  {
   "cell_type": "code",
   "execution_count": null,
   "metadata": {},
   "outputs": [],
   "source": [
    "f = open(\"file/new_file.txt\", \"r\")\n",
    "print(f.read())\n",
    "f.close()"
   ]
  },
  {
   "cell_type": "code",
   "execution_count": null,
   "metadata": {},
   "outputs": [],
   "source": [
    "# 读出列表\n",
    "with open(\"file/new_file.txt\", \"r\") as f:\n",
    "    print(f.readlines())"
   ]
  },
  {
   "cell_type": "code",
   "execution_count": null,
   "metadata": {},
   "outputs": [],
   "source": [
    "# 一行一行读取，取代一次性读取\n",
    "with open(\"file/new_file.txt\", \"r\") as f:\n",
    "    while True:\n",
    "        line = f.readline()\n",
    "        print(line)\n",
    "        if not line:\n",
    "            break"
   ]
  },
  {
   "cell_type": "markdown",
   "metadata": {},
   "source": [
    "### 文件编码，中文乱码\n",
    "\n",
    "有些文件在 Windows 存储的时候，是以 `gbk` 的格式存储的，下面的 `chinese.txt` 就模拟用 `gbk` 编码保存。注意这里选用的写模式是 `wb`，意思是 `write binary` 形式，取代默认的 text 形式，所以读的时候是 `rb`。运行会给你出一段乱码，因为Python不识别这段编码后的文本。"
   ]
  },
  {
   "cell_type": "code",
   "execution_count": null,
   "metadata": {},
   "outputs": [],
   "source": [
    "with open(\"file/chinese.txt\", \"wb\") as f:\n",
    "    f.write(\"这是中文的，this is Chinese\".encode(\"gbk\"))\n",
    "\n",
    "with open(\"file/chinese.txt\", \"rb\", ) as f:\n",
    "    print(f.read())\n",
    "    # print(f.read().decode('gbk'))  # 这种方式可以正确读取\n",
    "\n",
    "# 下面的代码会报错\n",
    "with open(\"file/chinese.txt\", \"r\") as f:\n",
    "    print(f.read())"
   ]
  },
  {
   "cell_type": "code",
   "execution_count": null,
   "metadata": {},
   "outputs": [],
   "source": [
    "with open(\"file/chinese.txt\", \"r\", encoding=\"gbk\") as f:\n",
    "    print(f.read())"
   ]
  },
  {
   "cell_type": "markdown",
   "metadata": {},
   "source": [
    "### 更多读写模式\n",
    "| mode | 意思  |\n",
    "| --- | --- |\n",
    "| w   | （创建）写文本 |\n",
    "| r   | 读文本，文件不存在会报错 |\n",
    "| a   | 在文本最后添加 |\n",
    "| wb  | 写二进制 binary |\n",
    "| rb  | 读二进制 binary |\n",
    "| ab  | 添加二进制 |\n",
    "| w+  | 又可以读又可以（创建）写 |\n",
    "| r+  | 又可以读又可以写, 文件不存在会报错 |\n",
    "| a+  | 可读写，在文本最后添加 |\n",
    "| x   | 创建  |"
   ]
  },
  {
   "cell_type": "code",
   "execution_count": null,
   "metadata": {},
   "outputs": [],
   "source": [
    "with open(\"file/new_file.txt\", \"r\") as f:\n",
    "    print(f.read())\n",
    "with open(\"file/new_file.txt\", \"r+\") as f:\n",
    "    f.write(\"text has been replaced\")\n",
    "    f.seek(0)       # 将开始读的位置从写入的最后位置调到开头\n",
    "    print(f.read())"
   ]
  },
  {
   "cell_type": "code",
   "execution_count": null,
   "metadata": {},
   "outputs": [],
   "source": [
    "with open(\"file/new_file.txt\", \"a+\") as f:\n",
    "    print(f.read())\n",
    "    f.write(\"\\nadd new line\")\n",
    "    f.seek(0)       # 将开始读的位置从写入的最后位置调到开头\n",
    "    print(f.read())"
   ]
  },
  {
   "cell_type": "markdown",
   "metadata": {},
   "source": [
    "## pickle / json 序列化\n",
    "\n",
    "什么是序列化呢，就是把像字典，列表这类的数据，打包保存在电脑硬盘中。\n",
    "\n",
    "### pickle\n",
    "\n",
    "用 pickle 的时候重要的是，需不需要能看懂被打包的数据，如果没有这个需求，那就可以用 pickle， 后面还会介绍一个叫 json 的打包库，它打出来的包就是能看懂的东西。"
   ]
  },
  {
   "cell_type": "code",
   "execution_count": null,
   "metadata": {},
   "outputs": [],
   "source": [
    "import pickle\n",
    "\n",
    "data = {\"filename\": \"f1.txt\", \"create_time\": \"today\", \"size\": 111}\n",
    "pickle.dumps(data)"
   ]
  },
  {
   "cell_type": "code",
   "execution_count": null,
   "metadata": {},
   "outputs": [],
   "source": [
    "# 将字典转换成一个文件\n",
    "data = {\"filename\": \"f1.txt\", \"create_time\": \"today\", \"size\": 111}\n",
    "with open(\"file/data.pkl\", \"wb\") as f:\n",
    "    pickle.dump(data, f)\n",
    "\n",
    "import os\n",
    "os.listdir('file')"
   ]
  },
  {
   "cell_type": "code",
   "execution_count": null,
   "metadata": {},
   "outputs": [],
   "source": [
    "with open(\"file/data.pkl\", \"rb\") as f:\n",
    "    data = pickle.load(f)\n",
    "print(data)"
   ]
  },
  {
   "cell_type": "markdown",
   "metadata": {},
   "source": [
    "除了常见的字典，列表，元组，pickle 甚至都可以打包 Python 的功能以及类。比如我有一个文件系统，我定义了一个 `File` 类，而且基于它生成了很多 `file` 实例。 这些实例都是可以被 pickle 的。\n",
    "\n",
    "注意，在反序列化 unpickle 的时候，这个 `File` 的 class 一定要有，不然反序列化会因为找不到 `File` 类而失败。 "
   ]
  },
  {
   "cell_type": "code",
   "execution_count": null,
   "metadata": {},
   "outputs": [],
   "source": [
    "class File:\n",
    "    def __init__(self, name, create_time, size):\n",
    "        self.name = name\n",
    "        self.create_time = create_time\n",
    "        self.size = size\n",
    "    \n",
    "    def change_name(self, new_name):\n",
    "        self.name = new_name\n",
    "\n",
    "data = File(\"f2.txt\", \"now\", 222)\n",
    "# 存\n",
    "with open(\"file/data.pkl\", \"wb\") as f:\n",
    "    pickle.dump(data, f)\n",
    "# 读\n",
    "with open(\"file/data.pkl\", \"rb\") as f:\n",
    "    read_data = pickle.load(f)\n",
    "# unpickle 出来的东西是一个实例\n",
    "print(read_data.name)\n",
    "print(read_data.size)"
   ]
  },
  {
   "cell_type": "markdown",
   "metadata": {},
   "source": [
    "有些类型的对象是不能被序列化的，这些通常是那些依赖外部系统状态的对象，比如打开的文件，网络连接，线程，进程，栈帧等等。 如果在 class 中把上述东西赋值到了 class 的属性上，比如下面的 `self.file = open()`，这样的 class 在 pickle 的时候会报错。"
   ]
  },
  {
   "cell_type": "code",
   "execution_count": null,
   "metadata": {},
   "outputs": [],
   "source": [
    "class File:\n",
    "    def __init__(self, name, create_time, size):\n",
    "        self.name = name\n",
    "        self.create_time = create_time\n",
    "        self.size = size\n",
    "        self.file = open(name, \"w\")\n",
    "\n",
    "data = File(\"f3.txt\", \"now\", 222)\n",
    "# pickle 存会报错\n",
    "with open(\"file/data.pkl\", \"wb\") as f:\n",
    "    pickle.dump(data, f)"
   ]
  },
  {
   "cell_type": "markdown",
   "metadata": {},
   "source": [
    "### json\n",
    "\n",
    "一般来说，Python 里的字典，列表都可以是 json 数据格式。如果我们用 Python 里的 json 库来读一个 Python 字典， 会处理成什么样呢？会变成一个字符串形式的字典。"
   ]
  },
  {
   "cell_type": "code",
   "execution_count": null,
   "metadata": {},
   "outputs": [],
   "source": [
    "import json\n",
    "\n",
    "data = {\"filename\": \"f1.txt\", \"create_time\": \"today\", \"size\": 111}\n",
    "j = json.dumps(data)\n",
    "print(j)\n",
    "print(type(j))"
   ]
  },
  {
   "cell_type": "code",
   "execution_count": null,
   "metadata": {},
   "outputs": [],
   "source": [
    "data = {\"filename\": \"f1.txt\", \"create_time\": \"today\", \"size\": 111}\n",
    "with open(\"file/data.json\", \"w\") as f:\n",
    "    json.dump(data, f)\n",
    "\n",
    "print(\"直接当纯文本读：\")\n",
    "with open(\"file/data.json\", \"r\") as f:\n",
    "    print(f.read())\n",
    "\n",
    "print(\"用 json 加载了读：\")\n",
    "with open(\"file/data.json\", \"r\") as f:\n",
    "    new_data = json.load(f)\n",
    "print(\"字典读取：\", new_data[\"filename\"])"
   ]
  },
  {
   "cell_type": "markdown",
   "metadata": {},
   "source": [
    "但是 json 相比 pickle 还是有它不及的点。pickle 可以很轻松的打包 Python 的 class，但是 json 不能序列化保存 class。只能挑出来重要的信息，放到字典或列表里，然后再用 json 打包字典。下面就是一段 json 打包 class 会报错的代码。"
   ]
  },
  {
   "cell_type": "code",
   "execution_count": null,
   "metadata": {},
   "outputs": [],
   "source": [
    "class File:\n",
    "    def __init__(self, name, create_time, size):\n",
    "        self.name = name\n",
    "        self.create_time = create_time\n",
    "        self.size = size\n",
    "    \n",
    "    def change_name(self, new_name):\n",
    "        self.name = new_name\n",
    "\n",
    "data = File(\"f4.txt\", \"now\", 222)\n",
    "# 会报错\n",
    "with open(\"file/data.json\", \"w\") as f:\n",
    "    json.dump(data, f)"
   ]
  },
  {
   "cell_type": "markdown",
   "metadata": {},
   "source": [
    "### pickle和json的不同\n",
    "\n",
    "| 对比  | Pickle | Json |\n",
    "| --- | --- | --- |\n",
    "| 存储格式 | Python 特定的 Bytes 格式 | 通用 JSON text 格式，可用于常用的网络通讯中 |\n",
    "| 数据种类 | **类，功能**，字典，列表，元组等 | 基本和 Pickle 一样，但不能存类，功能 |\n",
    "| 保存后可读性 | 不能直接阅读 | 能直接阅读 |\n",
    "| 跨语言性 | 只能用在 Python | 可以跨多语言读写 |\n",
    "| 处理时间 | 长（需编码数据） | 短（不需编码） |\n",
    "| 安全性 | 不安全（除非你信任数据源） | 相对安全 |"
   ]
  }
 ],
 "metadata": {
  "kernelspec": {
   "display_name": "Python 3.8.6 ('torch')",
   "language": "python",
   "name": "python3"
  },
  "language_info": {
   "codemirror_mode": {
    "name": "ipython",
    "version": 3
   },
   "file_extension": ".py",
   "mimetype": "text/x-python",
   "name": "python",
   "nbconvert_exporter": "python",
   "pygments_lexer": "ipython3",
   "version": "3.8.6"
  },
  "orig_nbformat": 4,
  "vscode": {
   "interpreter": {
    "hash": "59a952c6e241a26c2846444102601f9ad365365f06d32145faf788e20fd176b1"
   }
  }
 },
 "nbformat": 4,
 "nbformat_minor": 2
}
