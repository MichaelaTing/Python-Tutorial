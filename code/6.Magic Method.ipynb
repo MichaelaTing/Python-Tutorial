{
 "cells": [
  {
   "cell_type": "markdown",
   "metadata": {},
   "source": [
    "# Magic Method\n",
    "\n",
    "所有以双下划线包起来的方法，都统称为\"魔术方法\"。使用这些魔术方法可以构造出优美的代码，将复杂的逻辑封装成简单的方法。\n",
    "\n",
    "那么一个类中有哪些魔术方法呢？可以使用 Python 内置的方法 `dir()` 来列出类中所有的魔术方法。"
   ]
  },
  {
   "cell_type": "code",
   "execution_count": 1,
   "metadata": {},
   "outputs": [
    {
     "name": "stdout",
     "output_type": "stream",
     "text": [
      "['__class__', '__delattr__', '__dict__', '__dir__', '__doc__', '__eq__', '__format__', '__ge__', '__getattribute__', '__getstate__', '__gt__', '__hash__', '__init__', '__init_subclass__', '__le__', '__lt__', '__module__', '__ne__', '__new__', '__reduce__', '__reduce_ex__', '__repr__', '__setattr__', '__sizeof__', '__str__', '__subclasshook__', '__weakref__']\n"
     ]
    }
   ],
   "source": [
    "#!/usr/bin/env python3\n",
    "# -*- coding: UTF-8 -*-\n",
    "\n",
    "class User(object):\n",
    "    pass\n",
    "\n",
    "if __name__ == '__main__':\n",
    "    print(dir(User()))"
   ]
  },
  {
   "cell_type": "markdown",
   "metadata": {},
   "source": [
    "实际上，创建一个类的过程分为两步，一步是创建类的对象，还有一步就是对类进行初始化。\n",
    "\n",
    "`__new__` 用来创建类并返回这个类的实例，而`__init__` 只是将传入的参数来初始化该实例。`__new__` 在创建一个实例的过程中必定会被调用，但 `__init__` 就不一定，比如通过 `pickle.load` 的方式反序列化一个实例时就不会调用 `__init__` 方法。\n",
    "\n",
    "`def __new__(cls)` 是在 `def __init__(self)` 方法之前调用的，作用是返回一个实例对象。此外，`__new__` 方法总是需要返回该类的一个实例，而 `__init__` 不能返回除了 None 的任何值。"
   ]
  },
  {
   "cell_type": "code",
   "execution_count": 2,
   "metadata": {},
   "outputs": [
    {
     "name": "stdout",
     "output_type": "stream",
     "text": [
      "调用了 def __new__ 方法\n",
      "('aaa', 23)\n",
      "调用了 def __init__ 方法\n"
     ]
    }
   ],
   "source": [
    "#!/usr/bin/env python3\n",
    "# -*- coding: UTF-8 -*-\n",
    "\n",
    "class User(object):\n",
    "    def __new__(cls, *args, **kwargs):\n",
    "        # 打印 __new__方法中的相关信息\n",
    "        print('调用了 def __new__ 方法')\n",
    "        print(args)\n",
    "        # 最后返回父类的方法\n",
    "        return super(User, cls).__new__(cls)\n",
    "\n",
    "    def __init__(self, name, age):\n",
    "        print('调用了 def __init__ 方法')\n",
    "        self.name = name\n",
    "        self.age = age\n",
    "\n",
    "if __name__ == '__main__':\n",
    "    usr = User('aaa', 23)"
   ]
  },
  {
   "cell_type": "markdown",
   "metadata": {},
   "source": [
    "在实际开发中，很少会用到 `__new__` 方法，除非你希望能够控制类的创建。通常讲到 `__new__` ，都是牵扯到 metaclass(元类)的。\n",
    "\n",
    "当然当一个对象的生命周期结束的时候，析构函数 `__del__` 方法会被调用。但是这个方法是 Python 自己对对象进行垃圾回收的。"
   ]
  },
  {
   "cell_type": "markdown",
   "metadata": {},
   "source": [
    "之前也有讲到过，Python 没有真正意义上的私有属性。然后这就导致了对 Python 类的封装性比较差。我们有时候会希望 Python 能够定义私有属性，然后提供公共可访问的 `get` 方法和 `set` 方法。Python 其实可以通过魔术方法来实现封装。\n",
    "\n",
    "| 方法  | 说明  |\n",
    "| --- | --- |\n",
    "| `__getattr__(self, name)` | 该方法定义了试图访问一个不存在的属性时的行为。重载该方法可以实现捕获错误拼写然后进行重定向，或者对一些废弃的属性进行警告。 |\n",
    "| `__setattr__(self, name, value)` | 定义了对属性进行赋值和修改操作时的行为。不管对象的某个属性是否存在，都允许为该属性进行赋值。需要注意，实现 `__setattr__` 时要避免\"无限递归\"的错误。 |\n",
    "| `__delattr__(self, name)` | `__delattr__` 与 `__setattr__` 很像，只是它定义的是你删除属性时的行为。实现 `__delattr__` 同样要避免\"无限递归\"的错误。 |\n",
    "| `__getattribute__(self, name)` | `__getattribute__` 定义了你的属性被访问时的行为，而 `__getattr__` 只有该属性不存在时才会起作用。因此，在支持 `__getattribute__`的 Python 版本，调用`__getattr__` 前必定会调用 `__getattribute__`。使用`__getattribute__` 同样要避免\"无限递归\"的错误。 |"
   ]
  },
  {
   "cell_type": "markdown",
   "metadata": {},
   "source": [
    "在进行属性访问控制定义的时候会很容易的引起一个错误："
   ]
  },
  {
   "cell_type": "code",
   "execution_count": 3,
   "metadata": {},
   "outputs": [],
   "source": [
    "# 错误版本\n",
    "def __setattr__(self, name, value):\n",
    "    self.name = value\n",
    "    # 每当属性被赋值的时候， ``__setattr__()`` 会被调用，这样就造成了递归调用。\n",
    "    # 这意味这会调用 ``self.__setattr__('name', value)`` ，每次方法会调用自己。这样会造成程序崩溃。\n",
    "\n",
    "# 正确版本\n",
    "def __setattr__(self, name, value):\n",
    "    # 给类中的属性名分配值\n",
    "    self.__dict__[name] = value  \n",
    "    # 定制特有属性"
   ]
  },
  {
   "cell_type": "code",
   "execution_count": 4,
   "metadata": {},
   "outputs": [
    {
     "name": "stdout",
     "output_type": "stream",
     "text": [
      "调用了 __setattr__ 方法\n",
      "调用了 __getattribute__ 方法\n",
      "调用了 __getattribute__ 方法\n",
      "调用了 __getattr__ 方法\n",
      "调用了 __delattr__ 方法\n"
     ]
    }
   ],
   "source": [
    "#!/usr/bin/env python3\n",
    "# -*- coding: UTF-8 -*-\n",
    "\n",
    "class User(object):\n",
    "    def __getattr__(self, name):\n",
    "        print('调用了 __getattr__ 方法')\n",
    "        return super(User, self).__getattr__(name)\n",
    "\n",
    "    def __setattr__(self, name, value):\n",
    "        print('调用了 __setattr__ 方法')\n",
    "        return super(User, self).__setattr__(name, value)\n",
    "\n",
    "    def __delattr__(self, name):\n",
    "        print('调用了 __delattr__ 方法')\n",
    "        return super(User, self).__delattr__(name)\n",
    "\n",
    "    def __getattribute__(self, name):\n",
    "        print('调用了 __getattribute__ 方法')\n",
    "        return super(User, self).__getattribute__(name)\n",
    "\n",
    "\n",
    "if __name__ == '__main__':\n",
    "    user = User()\n",
    "    # 设置属性值，会调用 __setattr__\n",
    "    user.attr1 = True\n",
    "    # 属性存在,只有__getattribute__调用\n",
    "    user.attr1\n",
    "    try:\n",
    "        # 属性不存在, 先调用__getattribute__, 后调用__getattr__\n",
    "        user.attr2\n",
    "    except AttributeError:\n",
    "        pass\n",
    "    # __delattr__调用\n",
    "    del user.attr1\n"
   ]
  },
  {
   "cell_type": "markdown",
   "metadata": {},
   "source": [
    "`__get__()`, `__set__()` 和 `__delete__()`，有这些方法的对象叫做描述器。默认对属性的访问控制是从对象的字典里面 (`__dict__`) 中获取 (`get`) , 设置 (`set`) 和删除 (`delete`) 。"
   ]
  },
  {
   "cell_type": "markdown",
   "metadata": {},
   "source": [
    "自定义容器：\n",
    "\n",
    "| 功能  | 说明  |\n",
    "| --- | --- |\n",
    "| 自定义不可变容器类型 | 需要定义 `__len__` 和 `__getitem__` 方法 |\n",
    "| 自定义可变类型容器 | 在不可变容器类型的基础上增加定义 `__setitem__` 和 `__delitem__` |\n",
    "| 自定义的数据类型需要迭代 | 需定义 `__iter__` |\n",
    "| 返回自定义容器的长度 | 需实现 `__len__(self)` |\n",
    "| 自定义容器可以调用 `self[key]` ，如果 key 类型错误，抛出TypeError，如果没法返回 key 对应的数值，抛出ValueError | 需要实现 `__getitem__(self, key)` |\n",
    "| 当执行 `self[key] = value` 时 | 调用是 `__setitem__(self, key, value)`这个方法 |\n",
    "| 当执行 `del self[key]` 方法 | 其实调用的方法是 `__delitem__(self, key)` |\n",
    "| 当你想你的容器可以执行 `for x in container:` 或者使用 `iter(container)` 时 | 需要实现 `__iter__(self)` ，该方法返回的是一个迭代器 |\n",
    "\n",
    "来看一下使用上面魔术方法实现 Haskell 语言中的一个数据结构："
   ]
  },
  {
   "cell_type": "code",
   "execution_count": 5,
   "metadata": {},
   "outputs": [],
   "source": [
    "#!/usr/bin/env python3\n",
    "# -*- coding: UTF-8 -*-\n",
    "\n",
    "class FunctionalList:\n",
    "    ''' 实现了内置类型list的功能,并丰富了一些其他方法: head, tail, init, last, drop, take'''\n",
    "\n",
    "    def __init__(self, values=None):\n",
    "        if values is None:\n",
    "            self.values = []\n",
    "        else:\n",
    "            self.values = values\n",
    "\n",
    "    def __len__(self):\n",
    "        return len(self.values)\n",
    "\n",
    "    def __getitem__(self, key):\n",
    "        return self.values[key]\n",
    "\n",
    "    def __setitem__(self, key, value):\n",
    "        self.values[key] = value\n",
    "\n",
    "    def __delitem__(self, key):\n",
    "        del self.values[key]\n",
    "\n",
    "    def __iter__(self):\n",
    "        return iter(self.values)\n",
    "\n",
    "    def __reversed__(self):\n",
    "        return FunctionalList(reversed(self.values))\n",
    "\n",
    "    def append(self, value):\n",
    "        self.values.append(value)\n",
    "\n",
    "    def head(self):\n",
    "        # 获取第一个元素\n",
    "        return self.values[0]\n",
    "\n",
    "    def tail(self):\n",
    "        # 获取第一个元素之后的所有元素\n",
    "        return self.values[1:]\n",
    "\n",
    "    def init(self):\n",
    "        # 获取最后一个元素之前的所有元素\n",
    "        return self.values[:-1]\n",
    "\n",
    "    def last(self):\n",
    "        # 获取最后一个元素\n",
    "        return self.values[-1]\n",
    "\n",
    "    def drop(self, n):\n",
    "        # 获取所有元素，除了前N个\n",
    "        return self.values[n:]\n",
    "\n",
    "    def take(self, n):\n",
    "        # 获取前N个元素\n",
    "        return self.values[:n]"
   ]
  },
  {
   "cell_type": "markdown",
   "metadata": {},
   "source": [
    "比较运算符：\n",
    "\n",
    "| 魔术方法 | 说明  |\n",
    "| --- | --- |\n",
    "| `__cmp__(self, other)` | 如果该方法返回负数，说明 `self < other`; 返回正数，说明 `self > other`; 返回 0 说明 `self == other`。强烈不推荐来定义 `__cmp__` , 最好分别定义 `__lt__`, `__eq__` 等方法从而实现比较功能。 `__cmp__` 在 Python3 中被废弃了。 |\n",
    "| `__eq__(self, other)` | 定义了比较操作符 == 的行为 |\n",
    "| `__ne__(self, other)` | 定义了比较操作符 != 的行为 |\n",
    "| `__lt__(self, other)` | 定义了比较操作符 < 的行为 |\n",
    "| `__gt__(self, other)` | 定义了比较操作符 > 的行为 |\n",
    "| `__le__(self, other)` | 定义了比较操作符 <= 的行为 |\n",
    "| `__ge__(self, other)` | 定义了比较操作符 >= 的行为 |\n",
    "\n",
    "算术运算符：\n",
    "\n",
    "| 魔术方法 | 说明 |\n",
    "| --- | --- | \n",
    "| `__add__(self, other)` | 实现了加号运算 |\n",
    "| `__sub__(self, other)` | 实现了减号运算 |\n",
    "| `__mul__(self, other)` | 实现了乘法运算 |\n",
    "| `__floordiv__(self, other)` | 实现了 // 运算符 |\n",
    "| `___div__(self, other)` | 实现了 / 运算符. 该方法在 Python3 中废弃。原因是 Python3 中 division 默认就是 true division |\n",
    "| `__truediv__(self, other)` | 实现了 true division。只有声明了 `from __future__ import division` 该方法才会生效 |\n",
    "| `__mod__(self, other)` | 实现了 % 运算符, 取余运算 |\n",
    "| `__divmod__(self, other)` | 实现了 divmod() 內建函数 |\n",
    "| `__pow__(self, other)` | 实现了 `**` 次方操作 |\n",
    "| `__lshift__(self, other)` | 实现了位操作 `<<` |\n",
    "| `__rshift__(self, other)` | 实现了位操作 `>>` |\n",
    "| `__and__(self, other)` | 实现了位操作 `&` |\n",
    "| `__or__(self, other)` | 实现了位操作 ` | ` |\n",
    "| `__xor__(self, other)` | 实现了位操作 `^` |"
   ]
  }
 ],
 "metadata": {
  "kernelspec": {
   "display_name": "base",
   "language": "python",
   "name": "python3"
  },
  "language_info": {
   "codemirror_mode": {
    "name": "ipython",
    "version": 3
   },
   "file_extension": ".py",
   "mimetype": "text/x-python",
   "name": "python",
   "nbconvert_exporter": "python",
   "pygments_lexer": "ipython3",
   "version": "3.11.9"
  },
  "orig_nbformat": 4
 },
 "nbformat": 4,
 "nbformat_minor": 2
}
