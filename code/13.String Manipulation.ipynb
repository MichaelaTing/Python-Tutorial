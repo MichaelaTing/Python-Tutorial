{
 "cells": [
  {
   "cell_type": "markdown",
   "metadata": {},
   "source": [
    "# 字符串高阶玩法\n",
    "\n",
    "## 百分号模式\n",
    "| 方式  | 意思  |\n",
    "| --- | --- |\n",
    "| %d  | 整数  |\n",
    "| %i  | 整数  |\n",
    "| %f  | 小数  |\n",
    "| %s  | 字符  |"
   ]
  },
  {
   "cell_type": "code",
   "execution_count": 1,
   "metadata": {},
   "outputs": [
    {
     "name": "stdout",
     "output_type": "stream",
     "text": [
      "我的名字是aaa！我18岁了，我是男的~\n",
      "我的名字是 aaa !我 18 岁了，我是 男 的~\n",
      "我的名字是 aaa !我 18 岁了，我是 男 的~\n"
     ]
    }
   ],
   "source": [
    "name = \"aaa\"\n",
    "age = 18\n",
    "gender = \"男\"\n",
    "print(\"我的名字是\" + name + \"！我\" + str(age) + \"岁了，我是\" + gender + \"的~\")\n",
    "print(\"我的名字是 %s !我 %d 岁了，我是 %s 的~\" % (name, age, gender))\n",
    "print(\"我的名字是 %(nm)s !我 %(age)d 岁了，我是 %(gd)s 的~\" % {\"nm\": name, \"age\":age, \"gd\":gender})"
   ]
  },
  {
   "cell_type": "code",
   "execution_count": 2,
   "metadata": {},
   "outputs": [
    {
     "name": "stdout",
     "output_type": "stream",
     "text": [
      "0.333333\n",
      "0.33\n",
      "   0\n",
      "   12\n"
     ]
    }
   ],
   "source": [
    "print(\"%f\" % (1/3))     # 后面不限制\n",
    "print(\"%.2f\" % (1/3))   # 后面限制 2 个位置\n",
    "print(\"%4d\" % (1/3))    # 前面补全最大 4 个位置\n",
    "print(\"%5d\" % 12)       # 前面补全最大 5 个位置"
   ]
  },
  {
   "cell_type": "markdown",
   "metadata": {},
   "source": [
    "## format模式\n",
    "| 方式  | 意思  |\n",
    "| --- | --- |\n",
    "| :,  | 每 3 个 0 就用逗号隔开，比如 1,000 |\n",
    "| :b  | 该数字的二进制 |\n",
    "| :d  | 整数型 |\n",
    "| :f  | 小数模式 |\n",
    "| :%  | 百分比模式 |"
   ]
  },
  {
   "cell_type": "code",
   "execution_count": 3,
   "metadata": {},
   "outputs": [
    {
     "name": "stdout",
     "output_type": "stream",
     "text": [
      "我的名字是 aaa !我 18 岁了，我 1.8 米高~我是aaa\n",
      "我的名字是 aaa !我 18 岁了，我 1.8 米高~我是aaa\n"
     ]
    }
   ],
   "source": [
    "name = \"aaa\"\n",
    "age = 18\n",
    "height = 1.8\n",
    "print(\"我的名字是 {0} !我 {1} 岁了，我 {2} 米高~我是{0}\".format(name, age, height))\n",
    "print(\"我的名字是 {nm} !我 {age} 岁了，我 {ht} 米高~我是{nm}\".format(nm=name, age=age, ht=height))"
   ]
  },
  {
   "cell_type": "code",
   "execution_count": 4,
   "metadata": {},
   "outputs": [
    {
     "name": "stdout",
     "output_type": "stream",
     "text": [
      "我 1.123 米高\n",
      "我 1.1 米高\n",
      "我   1 米高\n",
      "我  21 米高\n"
     ]
    }
   ],
   "source": [
    "print(\"我 {:.3f} 米高\".format(1.12345))\n",
    "print(\"我 {ht:.1f} 米高\".format(ht=1.12345))\n",
    "print(\"我 {:3d} 米高\".format(1))\n",
    "print(\"我 {:3d} 米高\".format(21))"
   ]
  },
  {
   "cell_type": "code",
   "execution_count": 5,
   "metadata": {},
   "outputs": [
    {
     "name": "stdout",
     "output_type": "stream",
     "text": [
      "You scored 212.340000%\n",
      "You scored 212.34%\n"
     ]
    }
   ],
   "source": [
    "txt = \"You scored {:%}\"\n",
    "print(txt.format(2.1234))\n",
    "\n",
    "txt = \"You scored {:.2%}\"\n",
    "print(txt.format(2.1234))"
   ]
  },
  {
   "cell_type": "markdown",
   "metadata": {},
   "source": [
    "## 格式化字符串\n",
    "在字符串开头加上一个 `f`。然后用 `{}` 圈出变量名，直接在 `{}` 引用变量"
   ]
  },
  {
   "cell_type": "code",
   "execution_count": 6,
   "metadata": {},
   "outputs": [
    {
     "name": "stdout",
     "output_type": "stream",
     "text": [
      "我的名字是 aaa !我 18 岁了，我 1.8 米高~\n",
      "我 18 岁了，明年我就19岁了~\n",
      "You scored 212.34%\n",
      "You scored 2.123\n",
      "You scored    12\n"
     ]
    }
   ],
   "source": [
    "name = \"aaa\"\n",
    "age = 18\n",
    "height = 1.8\n",
    "print(f\"我的名字是 {name} !我 {age} 岁了，我 {height} 米高~\")\n",
    "print(f\"我 {age} 岁了，明年我就{age + 1}岁了~\")\n",
    "score = 2.1234\n",
    "print(f\"You scored {score:.2%}\")\n",
    "print(f\"You scored {score:.3f}\")\n",
    "print(f\"You scored {12:5d}\")"
   ]
  },
  {
   "cell_type": "markdown",
   "metadata": {},
   "source": [
    "## 修改字符串\n",
    "| 方式  | 意思  |\n",
    "| --- | --- |\n",
    "| strip | 去除两端的空白符 |\n",
    "| replace | 替换字符 |\n",
    "| lower | 全部做小写处理 |\n",
    "| upper | 全部做大写处理 |\n",
    "| title | 仅开头的字母大写 |\n",
    "| split | 按要求分割 |\n",
    "| join | 按要求合并 |\n",
    "| startswith | 判断是否为某字段开头 |\n",
    "| endswith | 判断是否为某字段结尾 |"
   ]
  },
  {
   "cell_type": "code",
   "execution_count": 8,
   "metadata": {},
   "outputs": [
    {
     "name": "stdout",
     "output_type": "stream",
     "text": [
      "我不想要前后的空白，但是  中间\n",
      "的可以有\n",
      "帮我替换掉bbb\n",
      "how about lower case?\n",
      "AND UPPER CASE?\n",
      "Do Title For Me\n",
      "['你', '帮', '我', '拆分', '一下', '这句话']\n",
      "你|帮|我|重组|一下|这句话\n",
      "True\n",
      "False\n",
      "True\n",
      "False\n"
     ]
    }
   ],
   "source": [
    "print(\"  我不想要前后的空白，但是  中间\\n的可以有\\n  \".strip())\n",
    "print(\"帮我替换掉aaa\".replace(\"aaa\", \"bbb\"))\n",
    "print(\"How ABOUT lower CaSe?\".lower())\n",
    "print(\"And upper CaSe?\".upper())\n",
    "print(\"do tiTle For me\".title())\n",
    "print(\"你|帮|我|拆分|一下|这句话\".split(\"|\"))\n",
    "print(\"|\".join([\"你\",\"帮\", \"我\", \"重组\", \"一下\", \"这句话\"]))\n",
    "print(\"我在街头看到你\".startswith(\"我在\"))\n",
    "print(\"我在街头看到你\".startswith(\"街头\"))\n",
    "print(\"我在巷尾看到你\".endswith(\"看到你\"))\n",
    "print(\"我在巷尾看到你\".endswith(\"巷尾\"))"
   ]
  }
 ],
 "metadata": {
  "kernelspec": {
   "display_name": "base",
   "language": "python",
   "name": "python3"
  },
  "language_info": {
   "codemirror_mode": {
    "name": "ipython",
    "version": 3
   },
   "file_extension": ".py",
   "mimetype": "text/x-python",
   "name": "python",
   "nbconvert_exporter": "python",
   "pygments_lexer": "ipython3",
   "version": "3.11.9"
  },
  "orig_nbformat": 4
 },
 "nbformat": 4,
 "nbformat_minor": 2
}
