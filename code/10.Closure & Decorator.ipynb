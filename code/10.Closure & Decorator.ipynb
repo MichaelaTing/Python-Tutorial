{
 "cells": [
  {
   "cell_type": "markdown",
   "metadata": {},
   "source": [
    "# 闭包"
   ]
  },
  {
   "cell_type": "code",
   "execution_count": 2,
   "metadata": {},
   "outputs": [
    {
     "ename": "UnboundLocalError",
     "evalue": "cannot access local variable 'time' where it is not associated with a value",
     "output_type": "error",
     "traceback": [
      "\u001b[0;31m---------------------------------------------------------------------------\u001b[0m",
      "\u001b[0;31mUnboundLocalError\u001b[0m                         Traceback (most recent call last)",
      "Cell \u001b[0;32mIn[2], line 7\u001b[0m\n\u001b[1;32m      4\u001b[0m     time \u001b[38;5;241m=\u001b[39m time \u001b[38;5;241m+\u001b[39m \u001b[38;5;28mmin\u001b[39m\n\u001b[1;32m      5\u001b[0m     \u001b[38;5;28;01mreturn\u001b[39;00m  time\n\u001b[0;32m----> 7\u001b[0m \u001b[38;5;28mprint\u001b[39m(\u001b[43minsert_time\u001b[49m\u001b[43m(\u001b[49m\u001b[38;5;241;43m2\u001b[39;49m\u001b[43m)\u001b[49m)\n\u001b[1;32m      8\u001b[0m \u001b[38;5;28mprint\u001b[39m(insert_time(\u001b[38;5;241m10\u001b[39m))\n",
      "Cell \u001b[0;32mIn[2], line 4\u001b[0m, in \u001b[0;36minsert_time\u001b[0;34m(min)\u001b[0m\n\u001b[1;32m      3\u001b[0m \u001b[38;5;28;01mdef\u001b[39;00m \u001b[38;5;21minsert_time\u001b[39m(\u001b[38;5;28mmin\u001b[39m):\n\u001b[0;32m----> 4\u001b[0m     time \u001b[38;5;241m=\u001b[39m \u001b[43mtime\u001b[49m \u001b[38;5;241m+\u001b[39m \u001b[38;5;28mmin\u001b[39m\n\u001b[1;32m      5\u001b[0m     \u001b[38;5;28;01mreturn\u001b[39;00m  time\n",
      "\u001b[0;31mUnboundLocalError\u001b[0m: cannot access local variable 'time' where it is not associated with a value"
     ]
    }
   ],
   "source": [
    "time = 0\n",
    "\n",
    "def insert_time(min):\n",
    "    time = time + min\n",
    "    return  time\n",
    "\n",
    "print(insert_time(2))\n",
    "print(insert_time(10))"
   ]
  },
  {
   "cell_type": "markdown",
   "metadata": {},
   "source": [
    "在 Python 中，如果一个函数使用和全局变量相同的名字且改变该变量的值，那么该变量就会变成局部变量，那么就会造成在函数中我们没有进行定义就引用了，所以会报错误。如果确实要引用全局变量，并在函数中对它进行修改，可以使用 `global` 关键字。"
   ]
  },
  {
   "cell_type": "code",
   "execution_count": 3,
   "metadata": {},
   "outputs": [
    {
     "name": "stdout",
     "output_type": "stream",
     "text": [
      "2\n",
      "12\n"
     ]
    }
   ],
   "source": [
    "time = 0\n",
    "\n",
    "def insert_time(min):\n",
    "    global  time\n",
    "    time = time + min\n",
    "    return  time\n",
    "\n",
    "print(insert_time(2))\n",
    "print(insert_time(10))"
   ]
  },
  {
   "cell_type": "markdown",
   "metadata": {},
   "source": [
    "全局变量降低了函数或模块之间的通用性，不同的函数或模块都要依赖于全局变量。这时候我们使用闭包来解决。"
   ]
  },
  {
   "cell_type": "code",
   "execution_count": 4,
   "metadata": {},
   "outputs": [
    {
     "name": "stdout",
     "output_type": "stream",
     "text": [
      "2\n",
      "0\n",
      "12\n",
      "0\n"
     ]
    }
   ],
   "source": [
    "time = 0\n",
    "\n",
    "def study_time(time):\n",
    "    def insert_time(min):\n",
    "        nonlocal  time\n",
    "        time = time + min\n",
    "        return time\n",
    "\n",
    "    return insert_time # 函数也是对象，可以直接返回函数\n",
    "\n",
    "\n",
    "f = study_time(time)\n",
    "print(f(2))\n",
    "print(time)\n",
    "print(f(10))\n",
    "print(time)"
   ]
  },
  {
   "cell_type": "markdown",
   "metadata": {},
   "source": [
    "这里最直接的表现就是全局变量 time 至此至终都没有修改过，这里用了 `nonlocal` 关键字，表示在函数或其他作用域中使用外层(非全局)变量。\n",
    "\n",
    "这种内部函数的局部作用域中可以访问外部函数局部作用域中变量的行为，我们称为闭包。更加直接的表达方式是，当某个函数被当成对象返回时，夹带了外部变量，就形成了一个闭包。\n",
    "\n",
    "闭包避免了使用全局变量，此外，闭包允许将函数与其所操作的某些数据（环境）关连起来，而且使用闭包可以使代码变得更加的优雅。\n",
    "\n",
    "有没有什么办法来验证一下这个函数就是闭包呢？有的，所有函数都有一个 `__closure__` 属性，如果函数是闭包的话，那么它返回的是一个由 cell 组成的元组对象。cell 对象的 cell_contents 属性就是存储在闭包中的变量。"
   ]
  },
  {
   "cell_type": "code",
   "execution_count": 5,
   "metadata": {},
   "outputs": [
    {
     "name": "stdout",
     "output_type": "stream",
     "text": [
      "(<cell at 0x10be61e70: int object at 0x108cdbcc8>,)\n",
      "2\n",
      "0\n",
      "2\n",
      "12\n",
      "0\n",
      "12\n"
     ]
    }
   ],
   "source": [
    "time = 0\n",
    "\n",
    "def study_time(time):\n",
    "    def insert_time(min):\n",
    "        nonlocal  time\n",
    "        time = time + min\n",
    "        return time\n",
    "\n",
    "    return insert_time\n",
    "\n",
    "f = study_time(time)\n",
    "print(f.__closure__)\n",
    "print(f(2))\n",
    "print(time)\n",
    "print(f.__closure__[0].cell_contents)\n",
    "print(f(10))\n",
    "print(time)\n",
    "print(f.__closure__[0].cell_contents)"
   ]
  },
  {
   "cell_type": "markdown",
   "metadata": {},
   "source": [
    "从结果可见，传进来的值一直存储在闭包的 cell_contents 中，这也是闭包的最大特点，可以将父函数的变量与其内部定义的函数绑定。就算生成闭包的父函数已经释放了，闭包仍然存在。\n",
    "\n",
    "闭包的过程其实好比类（父函数）生成实例（闭包），不同的是父函数只在调用时执行，执行完毕后其环境就会释放，而类则在文件执行时创建，一般程序执行完毕后作用域才释放，因此对一些需要重用的功能且不足以定义为类的行为，使用闭包会比使用类占用更少的资源，且更轻巧灵活。"
   ]
  },
  {
   "cell_type": "markdown",
   "metadata": {},
   "source": [
    "# 装饰器"
   ]
  },
  {
   "cell_type": "code",
   "execution_count": 6,
   "metadata": {},
   "outputs": [
    {
     "name": "stdout",
     "output_type": "stream",
     "text": [
      "2024-10-24\n",
      "昵称：aaa  部门：事业部 上班打卡成功\n"
     ]
    }
   ],
   "source": [
    "import time\n",
    "\n",
    "def punch():\n",
    "    print(time.strftime('%Y-%m-%d', time.localtime(time.time())))\n",
    "    print('昵称：aaa  部门：事业部 上班打卡成功')\n",
    "\n",
    "punch()"
   ]
  },
  {
   "cell_type": "markdown",
   "metadata": {},
   "source": [
    "这样改变了函数的功能结构，可能会造成代码重复的问题。可以使用**函数式编程**来修改这部分的代码。Python 函数有两个特点，函数也是一个对象，而且函数里可以嵌套函数。"
   ]
  },
  {
   "cell_type": "code",
   "execution_count": 7,
   "metadata": {},
   "outputs": [
    {
     "name": "stdout",
     "output_type": "stream",
     "text": [
      "2024-10-24\n",
      "昵称：aaa  部门：事业部 上班打卡成功\n"
     ]
    }
   ],
   "source": [
    "import time\n",
    "\n",
    "def punch():\n",
    "    print('昵称：aaa  部门：事业部 上班打卡成功')\n",
    "\n",
    "def add_time(func):\n",
    "    print(time.strftime('%Y-%m-%d', time.localtime(time.time())))\n",
    "    func()\n",
    "\n",
    "add_time(punch)"
   ]
  },
  {
   "cell_type": "markdown",
   "metadata": {},
   "source": [
    "使用函数编程很方便，但是每次调用的时候，都不得不把原来的函数作为参数传递进去，还能不能有更好的实现方式呢？有的，装饰器。"
   ]
  },
  {
   "cell_type": "code",
   "execution_count": 8,
   "metadata": {},
   "outputs": [
    {
     "name": "stdout",
     "output_type": "stream",
     "text": [
      "2024-10-24\n",
      "昵称：aaa  部门：事业部 上班打卡成功\n"
     ]
    }
   ],
   "source": [
    "import time\n",
    "\n",
    "def decorator(func):\n",
    "    def punch():\n",
    "        print(time.strftime('%Y-%m-%d', time.localtime(time.time())))\n",
    "        func()\n",
    "\n",
    "    return punch\n",
    "\n",
    "def punch():\n",
    "    print('昵称：aaa  部门：事业部 上班打卡成功')\n",
    "\n",
    "f = decorator(punch)\n",
    "f()"
   ]
  },
  {
   "cell_type": "markdown",
   "metadata": {},
   "source": [
    "装饰器函数一般做这三件事：\n",
    "\n",
    "1.接收一个函数作为参数\n",
    "\n",
    "2.嵌套一个包装函数，包装函数会接收原函数的相同参数，并执行原函数，且还会执行附加功能\n",
    "\n",
    "3.返回嵌套函数\n",
    "\n",
    "Python 装饰器的核心可以说就是它的语法糖。那么怎么使用语法糖呢？根据上面的写法写完装饰器函数后，直接在原来的函数上加 @ 和装饰器的函数名。"
   ]
  },
  {
   "cell_type": "code",
   "execution_count": 9,
   "metadata": {},
   "outputs": [
    {
     "name": "stdout",
     "output_type": "stream",
     "text": [
      "2024-10-24\n",
      "昵称：aaa  部门：事业部 上班打卡成功\n"
     ]
    }
   ],
   "source": [
    "import time\n",
    "\n",
    "def decorator(func):\n",
    "    def punch():\n",
    "        print(time.strftime('%Y-%m-%d', time.localtime(time.time())))\n",
    "        func()\n",
    "\n",
    "    return punch\n",
    "\n",
    "@decorator\n",
    "def punch():\n",
    "    print('昵称：aaa  部门：事业部 上班打卡成功')\n",
    "\n",
    "punch()"
   ]
  },
  {
   "cell_type": "code",
   "execution_count": 10,
   "metadata": {},
   "outputs": [
    {
     "name": "stdout",
     "output_type": "stream",
     "text": [
      "2024-10-24\n",
      "昵称：aaa  部门：事业部 上班打卡成功\n",
      "2024-10-24\n",
      "aaa\n",
      "{'sex': '男', 'age': 99}\n"
     ]
    }
   ],
   "source": [
    "import time\n",
    "\n",
    "def decorator(func):\n",
    "    def punch(*args, **kwargs):\n",
    "        print(time.strftime('%Y-%m-%d', time.localtime(time.time())))\n",
    "        func(*args, **kwargs)\n",
    "\n",
    "    return punch\n",
    "\n",
    "@decorator\n",
    "def punch(name, department):\n",
    "    print('昵称：{0}  部门：{1} 上班打卡成功'.format(name, department))\n",
    "\n",
    "@decorator\n",
    "def print_args(reason, **kwargs):\n",
    "    print(reason)\n",
    "    print(kwargs)\n",
    "\n",
    "\n",
    "punch('aaa', '事业部')\n",
    "print_args('aaa', sex='男', age=99)"
   ]
  }
 ],
 "metadata": {
  "kernelspec": {
   "display_name": "base",
   "language": "python",
   "name": "python3"
  },
  "language_info": {
   "codemirror_mode": {
    "name": "ipython",
    "version": 3
   },
   "file_extension": ".py",
   "mimetype": "text/x-python",
   "name": "python",
   "nbconvert_exporter": "python",
   "pygments_lexer": "ipython3",
   "version": "3.11.9"
  },
  "orig_nbformat": 4
 },
 "nbformat": 4,
 "nbformat_minor": 2
}
