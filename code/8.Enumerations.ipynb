{
 "cells": [
  {
   "cell_type": "markdown",
   "metadata": {},
   "source": [
    "# 枚举类\n",
    "\n",
    "`Enum` 类定义一个 枚举类，每个常量都是 class 里面唯一的实例。第一个参数 Month 表示的是该枚举类的类名，第二个 tuple 参数表示的是枚举类的值。"
   ]
  },
  {
   "cell_type": "code",
   "execution_count": 1,
   "metadata": {},
   "outputs": [
    {
     "name": "stdout",
     "output_type": "stream",
     "text": [
      "Jan -- Month.Jan -- 1\n",
      "Feb -- Month.Feb -- 2\n",
      "Mar -- Month.Mar -- 3\n",
      "Apr -- Month.Apr -- 4\n",
      "May -- Month.May -- 5\n",
      "Jun -- Month.Jun -- 6\n",
      "Jul -- Month.Jul -- 7\n",
      "Aug -- Month.Aug -- 8\n",
      "Sep -- Month.Sep -- 9\n",
      "Oct -- Month.Oct -- 10\n",
      "Nov -- Month.Nov -- 11\n",
      "Dec -- Month.Dec -- 12\n",
      "\n",
      " Month.Jan\n"
     ]
    }
   ],
   "source": [
    "#!/usr/bin/env python3\n",
    "# -*- coding: UTF-8 -*-\n",
    "\n",
    "from enum import Enum\n",
    "\n",
    "Month = Enum('Month', ('Jan', 'Feb', 'Mar', 'Apr', 'May', 'Jun', 'Jul', 'Aug', 'Sep', 'Oct', 'Nov', 'Dec'))\n",
    "\n",
    "# 遍历枚举类型\n",
    "for name, member in Month.__members__.items():\n",
    "    print(name, '--', member, '--', member.value)\n",
    "\n",
    "# 直接引用一个常量\n",
    "print('\\n', Month.Jan)"
   ]
  },
  {
   "cell_type": "markdown",
   "metadata": {},
   "source": [
    "Enum 类的枚举不支持大小运算符的比较。那么能不能让枚举类进行大小的比较呢？当然是可以的，使用 `IntEnum` 类进行枚举。"
   ]
  },
  {
   "cell_type": "code",
   "execution_count": 2,
   "metadata": {},
   "outputs": [
    {
     "name": "stdout",
     "output_type": "stream",
     "text": [
      "ccc\n",
      "bbb\n",
      "aaa\n"
     ]
    }
   ],
   "source": [
    "#!/usr/bin/env python3\n",
    "# -*- coding: UTF-8 -*-\n",
    "import enum\n",
    "\n",
    "class User(enum.IntEnum):\n",
    "    aaa = 98\n",
    "    bbb = 30\n",
    "    ccc = 12\n",
    "\n",
    "try:\n",
    "    print('\\n'.join(s.name for s in sorted(User)))\n",
    "except TypeError as err:\n",
    "    print(' Error : {}'.format(err))"
   ]
  }
 ],
 "metadata": {
  "kernelspec": {
   "display_name": "base",
   "language": "python",
   "name": "python3"
  },
  "language_info": {
   "codemirror_mode": {
    "name": "ipython",
    "version": 3
   },
   "file_extension": ".py",
   "mimetype": "text/x-python",
   "name": "python",
   "nbconvert_exporter": "python",
   "pygments_lexer": "ipython3",
   "version": "3.11.9"
  },
  "orig_nbformat": 4
 },
 "nbformat": 4,
 "nbformat_minor": 2
}
