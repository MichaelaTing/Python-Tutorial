{
 "cells": [
  {
   "cell_type": "markdown",
   "metadata": {},
   "source": [
    "# 面向对象\n",
    "\n",
    "面向对象的编程语言有三大特性：继承，多态和封装性。\n",
    "\n",
    "1.继承：一个派生类（derived class）继承基类（base class）的字段和方法。继承也允许把一个派生类的对象作为一个基类对象对待。\n",
    "\n",
    "2.多态：对不同类型的变量进行相同的操作，它会根据对象（或类）类型的不同而表现出不同的行为。\n",
    "\n",
    "3.封装：将抽象得到的数据和行为（或功能）相结合，形成一个有机的整体（即类）。封装的目的是增强安全性和简化编程，使用者不必了解具体的实现细节，而只是要通过外部接口，以特定的访问权限来使用类的成员。\n",
    "\n",
    "```python\n",
    "class ClassName():\n",
    "    <statement-1>\n",
    "    .\n",
    "    .\n",
    "    .\n",
    "    <statement-N>\n",
    "```\n",
    "\n",
    "类里面的变量叫属性，函数叫方法。"
   ]
  },
  {
   "cell_type": "markdown",
   "metadata": {},
   "source": [
    "在同一个类里，类方法如何调用类属性。其中无论是 `@classmethod` 还是 `cls` ,都不能省去。"
   ]
  },
  {
   "cell_type": "code",
   "execution_count": 1,
   "metadata": {},
   "outputs": [
    {
     "name": "stdout",
     "output_type": "stream",
     "text": [
      "Hello World!\n",
      "I am 18\n"
     ]
    }
   ],
   "source": [
    "class ClassA():\n",
    "    var1 = 'Hello'\n",
    "\n",
    "    @classmethod\n",
    "    def fun1(cls, age):\n",
    "        print(cls.var1 + ' World!')\n",
    "        print('I am ' + str(age)) # 类方法传参\n",
    "\n",
    "ClassA.fun1(18)"
   ]
  },
  {
   "cell_type": "markdown",
   "metadata": {},
   "source": [
    "从内部修改和增加类属性："
   ]
  },
  {
   "cell_type": "code",
   "execution_count": 2,
   "metadata": {},
   "outputs": [
    {
     "name": "stdout",
     "output_type": "stream",
     "text": [
      "Hello World!\n",
      "修改后的var1的值:  123\n",
      "修改后的var2的值:  345\n"
     ]
    }
   ],
   "source": [
    "class ClassA():\n",
    "    var1 = 'Hello'\n",
    "\n",
    "    @classmethod\n",
    "    def fun1(cls):\n",
    "        print(cls.var1 + ' World!')\n",
    "        cls.var1 = input('输入var1的值:')\n",
    "        print('修改后的var1的值: ', cls.var1)\n",
    "        cls.var2 = input('输入var2的值:')\n",
    "        print('修改后的var2的值: ', cls.var2)\n",
    "\n",
    "ClassA.fun1()"
   ]
  },
  {
   "cell_type": "markdown",
   "metadata": {},
   "source": [
    "从外部修改和增加类属性："
   ]
  },
  {
   "cell_type": "code",
   "execution_count": 3,
   "metadata": {},
   "outputs": [
    {
     "name": "stdout",
     "output_type": "stream",
     "text": [
      "Hello World!\n",
      "修改后的var1的值:  123\n",
      "修改后的var2的值:  345\n"
     ]
    }
   ],
   "source": [
    "class ClassA():\n",
    "    var1 = 'Hello'\n",
    "\n",
    "    @classmethod\n",
    "    def fun1(cls):\n",
    "        print(cls.var1 + ' World!')\n",
    "\n",
    "ClassA.fun1()\n",
    "ClassA.var1 = input('输入var1的值:')\n",
    "print('修改后的var1的值: ', ClassA.var1)\n",
    "ClassA.var2 = input('输入var2的值:')\n",
    "print('修改后的var2的值: ', ClassA.var2)"
   ]
  },
  {
   "cell_type": "markdown",
   "metadata": {},
   "source": [
    "类是对象的模板。类实例化之后，就变成了对象。"
   ]
  },
  {
   "cell_type": "code",
   "execution_count": 4,
   "metadata": {},
   "outputs": [
    {
     "name": "stdout",
     "output_type": "stream",
     "text": [
      "var1:  hello\n",
      "hello\n"
     ]
    }
   ],
   "source": [
    "class ClassA(object):\n",
    "    var1 = 'hello'\n",
    "    def fun1(self):\n",
    "        print('var1: ', self.var1)\n",
    "\n",
    "a = ClassA()\n",
    "a.fun1()\n",
    "print(a.var1)"
   ]
  },
  {
   "cell_type": "markdown",
   "metadata": {},
   "source": [
    "使用 `cls` 和 `self` 是编程习惯，也是编程规范。因为 `cls` 是 class 的缩写，而 `self` 是对象的意思，并且 `self` 是所有类方法位于首位、默认的特殊参数。\n",
    "\n",
    "当把类实例化之后，里面的属性和方法，就不叫类属性和类方法了，改为叫实例属性和实例方法，也可以叫对象属性和对象方法。为什么要这样强调呢？因为一个类是可以创造出多个实例对象出来的。\n",
    "\n",
    "类属性改变，实例属性会跟着改变；实例属性改变，不影响类属性。同样的，类方法改变，实例方法也会跟着改变。改变类方法，就需要用到类的重写，使用 `类.原始函数 = 新函数` 就完成类的重写。要注意的是，这里的赋值是在替换方法，并不是调用函数。所以是不能加上括号的，也就是 `类.原始函数() = 新函数()` 这个写法是不对的。同时要注意的是，实例方法不能重写。"
   ]
  },
  {
   "cell_type": "markdown",
   "metadata": {},
   "source": [
    "初始化函数的意思是，当你创建一个实例的时候，这个函数就会被调用。`__init__(self)` 函数就是初始化函数，也叫构造函数。`__init__()` 的括号中，第一个参数一定要写上 `self`，不然会报错。\n",
    "\n",
    "析构函数：`__del__(self,[...)`"
   ]
  },
  {
   "cell_type": "markdown",
   "metadata": {},
   "source": [
    "类的继承的基本语法\n",
    "\n",
    "```python\n",
    "class ClassName(BaseClassName):\n",
    "    <statement-1>\n",
    "    .\n",
    "    .\n",
    "    .\n",
    "    <statement-N>\n",
    "```\n",
    "\n",
    "在定义类的时候，可以在括号里写继承的类，如果不用继承类的时候，也要写继承 `object` 类，在 Python 中 `object` 类是一切类的父类。\n",
    "\n",
    "Python 也是支持多继承的，具体的语法如下：\n",
    "\n",
    "```python\n",
    "class ClassName(Base1,Base2,Base3):\n",
    "    <statement-1>\n",
    "    .\n",
    "    .\n",
    "    .\n",
    "    <statement-N>\n",
    "```\n",
    "\n",
    "若是父类中有相同的方法名，而在子类使用时未指定，python 在圆括号中父类的顺序，从左至右搜索，即方法在子类中未找到时，从左到右查找父类中是否包含方法。\n",
    "\n",
    "子类可以继承父类的属性和方法："
   ]
  },
  {
   "cell_type": "code",
   "execution_count": 5,
   "metadata": {},
   "outputs": [
    {
     "name": "stdout",
     "output_type": "stream",
     "text": [
      "34705\n"
     ]
    }
   ],
   "source": [
    "#!/usr/bin/env python\n",
    "# -*- coding: UTF-8 -*-\n",
    "\n",
    "class UserInfo(object):\n",
    "    lv = 5\n",
    "\n",
    "    def __init__(self, name, age, account):\n",
    "        self.name = name\n",
    "        self._age = age\n",
    "        self.__account = account\n",
    "\n",
    "    def get_account(self):\n",
    "        return self.__account\n",
    "\n",
    "\n",
    "class UserInfo2(UserInfo):\n",
    "    pass\n",
    "\n",
    "\n",
    "if __name__ == '__main__':\n",
    "    userInfo2 = UserInfo2('aaa', 23, 34705);\n",
    "    print(userInfo2.get_account())"
   ]
  },
  {
   "cell_type": "markdown",
   "metadata": {},
   "source": [
    "子类也可以重写父类的方法："
   ]
  },
  {
   "cell_type": "code",
   "execution_count": 6,
   "metadata": {},
   "outputs": [
    {
     "name": "stdout",
     "output_type": "stream",
     "text": [
      "['_UserInfo__account', '__class__', '__delattr__', '__dict__', '__dir__', '__doc__', '__eq__', '__format__', '__ge__', '__getattribute__', '__getstate__', '__gt__', '__hash__', '__init__', '__init_subclass__', '__le__', '__lt__', '__module__', '__ne__', '__new__', '__reduce__', '__reduce_ex__', '__repr__', '__setattr__', '__sizeof__', '__str__', '__subclasshook__', '__weakref__', '_age', 'get_account', 'get_age', 'get_name', 'lv', 'name', 'sex']\n",
      "{'name': 'aaa', '_age': 23, '_UserInfo__account': 34765, 'sex': '男'}\n",
      "5\n"
     ]
    }
   ],
   "source": [
    "#!/usr/bin/env python3\n",
    "# -*- coding: UTF-8 -*-\n",
    "\n",
    "class UserInfo(object):\n",
    "    lv = 5\n",
    "\n",
    "    def __init__(self, name, age, account):\n",
    "        self.name = name\n",
    "        self._age = age\n",
    "        self.__account = account\n",
    "\n",
    "    def get_account(self):\n",
    "        return self.__account\n",
    "\n",
    "    @classmethod\n",
    "    def get_name(cls):\n",
    "        return cls.lv\n",
    "\n",
    "    @property\n",
    "    def get_age(self):\n",
    "        return self._age\n",
    "\n",
    "\n",
    "class UserInfo2(UserInfo):\n",
    "    def __init__(self, name, age, account, sex):\n",
    "        super(UserInfo2, self).__init__(name, age, account)\n",
    "        self.sex = sex\n",
    "\n",
    "\n",
    "if __name__ == '__main__':\n",
    "    userInfo2 = UserInfo2('aaa', 23, 34765, '男');\n",
    "    # 打印所有属性\n",
    "    print(dir(userInfo2))\n",
    "    # 打印构造函数中的属性\n",
    "    print(userInfo2.__dict__)\n",
    "    print(UserInfo2.get_name())"
   ]
  },
  {
   "cell_type": "markdown",
   "metadata": {},
   "source": [
    "对于 class 的继承关系来说，有些时候我们需要判断 class 的类型，该怎么办呢？可以使用 `isinstance()` 函数。"
   ]
  },
  {
   "cell_type": "code",
   "execution_count": 7,
   "metadata": {},
   "outputs": [
    {
     "name": "stdout",
     "output_type": "stream",
     "text": [
      "True\n",
      "True\n",
      "True\n",
      "True\n",
      "True\n",
      "False\n"
     ]
    }
   ],
   "source": [
    "#!/usr/bin/env python3\n",
    "# -*- coding: UTF-8 -*-\n",
    "\n",
    "class User1(object):\n",
    "    pass\n",
    "\n",
    "class User2(User1):\n",
    "    pass\n",
    "\n",
    "class User3(User2):\n",
    "    pass\n",
    "\n",
    "if __name__ == '__main__':\n",
    "    user1 = User1()\n",
    "    user2 = User2()\n",
    "    user3 = User3()\n",
    "    # isinstance()就可以告诉我们，一个对象是否是某种类型\n",
    "    print(isinstance(user3, User2))\n",
    "    print(isinstance(user3, User1))\n",
    "    print(isinstance(user3, User3))\n",
    "    # 基本类型也可以用isinstance()判断\n",
    "    print(isinstance('aaa', str))\n",
    "    print(isinstance(347073565, int))\n",
    "    print(isinstance(347073565, str))"
   ]
  },
  {
   "cell_type": "markdown",
   "metadata": {},
   "source": [
    "多态的概念其实不难理解，它是指对不同类型的变量进行相同的操作，它会根据对象（或类）类型的不同而表现出不同的行为。注意，有继承，才有多态，才会有不同类的对象对同一消息会作出不同的相应。"
   ]
  },
  {
   "cell_type": "code",
   "execution_count": 8,
   "metadata": {},
   "outputs": [
    {
     "name": "stdout",
     "output_type": "stream",
     "text": [
      "Hello ! 尊敬的Vip用户: aaa\n",
      "Hello ! 尊敬的用户: bbb\n"
     ]
    }
   ],
   "source": [
    "#!/usr/bin/env python3\n",
    "# -*- coding: UTF-8 -*-\n",
    "\n",
    "class User(object):\n",
    "    def __init__(self, name):\n",
    "        self.name = name\n",
    "\n",
    "    def printUser(self):\n",
    "        print('Hello !' + self.name)\n",
    "\n",
    "\n",
    "class UserVip(User):\n",
    "    def printUser(self):\n",
    "        print('Hello ! 尊敬的Vip用户: ' + self.name)\n",
    "\n",
    "\n",
    "class UserGeneral(User):\n",
    "    def printUser(self):\n",
    "        print('Hello ! 尊敬的用户: ' + self.name)\n",
    "\n",
    "\n",
    "def printUserInfo(user):\n",
    "    user.printUser()\n",
    "\n",
    "\n",
    "if __name__ == '__main__':\n",
    "    userVip = UserVip('aaa')\n",
    "    printUserInfo(userVip)\n",
    "    userGeneral = UserGeneral('bbb')\n",
    "    printUserInfo(userGeneral)"
   ]
  },
  {
   "cell_type": "markdown",
   "metadata": {},
   "source": [
    "一般情况下会使用 `__private_attrs` 两个下划线开头，声明该属性为私有，不能在类地外部被使用或直接访问。在类内部的方法中使用时为 `self.__private_attrs`。实际上双下划线不是真正的私有属性："
   ]
  },
  {
   "cell_type": "code",
   "execution_count": 9,
   "metadata": {},
   "outputs": [
    {
     "name": "stdout",
     "output_type": "stream",
     "text": [
      "['_UserInfo__account', '__class__', '__delattr__', '__dict__', '__dir__', '__doc__', '__eq__', '__format__', '__ge__', '__getattribute__', '__getstate__', '__gt__', '__hash__', '__init__', '__init_subclass__', '__le__', '__lt__', '__module__', '__ne__', '__new__', '__reduce__', '__reduce_ex__', '__repr__', '__setattr__', '__sizeof__', '__str__', '__subclasshook__', '__weakref__', '_age', 'get_account', 'name']\n",
      "{'name': 'aaa', '_age': 23, '_UserInfo__account': 3470565}\n",
      "3470565\n",
      "3470565\n"
     ]
    }
   ],
   "source": [
    "#!/usr/bin/env python\n",
    "# -*- coding: UTF-8 -*-\n",
    "\n",
    "class UserInfo(object):\n",
    "    def __init__(self, name, age, account):\n",
    "        self.name = name\n",
    "        self._age = age\n",
    "        self.__account = account\n",
    "\n",
    "    def get_account(self):\n",
    "        return self.__account\n",
    "\n",
    "\n",
    "if __name__ == '__main__':\n",
    "    userInfo = UserInfo('aaa', 23, 3470565);\n",
    "    # 打印所有属性\n",
    "    print(dir(userInfo))\n",
    "    # 打印构造函数中的属性\n",
    "    print(userInfo.__dict__)\n",
    "    print(userInfo.get_account())\n",
    "    # 用于验证双下划线是否是真正的私有属性\n",
    "    print(userInfo._UserInfo__account)"
   ]
  },
  {
   "cell_type": "code",
   "execution_count": 10,
   "metadata": {},
   "outputs": [
    {
     "name": "stdout",
     "output_type": "stream",
     "text": [
      "txt\n",
      "True\n"
     ]
    }
   ],
   "source": [
    "class File:\n",
    "    def __init__(self):\n",
    "        self.name = \"f1\"\n",
    "        self.__deleted = False  # 我不让别人用这个变量，强隐藏\n",
    "        self._type = \"txt\"      # 我不想别人使用这个变量，弱隐藏\n",
    "    \n",
    "    def delete(self):\n",
    "        self.__force_delete()\n",
    "    \n",
    "    def __force_delete(self):  # 我不让别人使用这个功能\n",
    "        self.__deleted = True\n",
    "        return True\n",
    "        \n",
    "    def _soft_delete(self):     # 我不想让别人使用这个功能\n",
    "        self.__force_delete()   # 我自己可以在内部随便调用\n",
    "        return True\n",
    "\n",
    "f = File()\n",
    "print(f._type)      # 可以拿到值，但是这个类的作者不想让你直接这样拿到\n",
    "print(f._soft_delete())  # 可以调用，但是这个类的作者不想让你直接调用\n",
    "\n",
    "# 接下来的两个实验都会报错\n",
    "# f.__deleted\n",
    "# f.__force_delete()"
   ]
  },
  {
   "cell_type": "markdown",
   "metadata": {},
   "source": [
    "一个类创建的时候，就会包含一些方法，主要有以下类的专有方法：\n",
    "\n",
    "\n",
    "| 方法 |\t说明 |\n",
    "| ---------------------------- | ---------------------------- | \n",
    "| `__init__`\t| 构造函数，在生成对象时调用 |\n",
    "| `__del__`\t| 析构函数，释放对象时使用 |\n",
    "| `__repr__`\t| 打印，转换 |\n",
    "| `__setitem__` |\t按照索引赋值 |\n",
    "| `__getitem__` |\t按照索引获取值 |\n",
    "| `__len__`\t| 获得长度 |\n",
    "| `__cmp__`\t| 比较运算 |\n",
    "| `__call__`\t| 函数调用 |\n",
    "| `__add__`\t| 加运算 |\n",
    "| `__sub__`\t| 减运算 |\n",
    "| `__mul__`\t| 乘运算 |\n",
    "| `__div__`\t| 除运算 |\n",
    "| `__mod__`\t| 求余运算 |\n",
    "| `__pow__`\t| 乘方 |\n",
    "\n",
    "`type(obj)`：来获取对象的相应类型；\n",
    "\n",
    "`isinstance(obj, type)`：判断对象是否为指定的 type 类型的实例；\n",
    "\n",
    "`hasattr(obj, attr)`：判断对象是否具有指定属性/方法；\n",
    "\n",
    "`getattr(obj, attr[, default])`：获取属性/方法的值, 要是没有对应的属性则返回 default 值（前提是设置了 default），否则会抛出 AttributeError 异常；\n",
    "\n",
    "`setattr(obj, attr, value)`：设定该属性/方法的值，类似于 obj.attr=value；\n",
    "\n",
    "`dir(obj)`：可以获取相应对象的所有属性和方法名的列表："
   ]
  }
 ],
 "metadata": {
  "kernelspec": {
   "display_name": "base",
   "language": "python",
   "name": "python3"
  },
  "language_info": {
   "codemirror_mode": {
    "name": "ipython",
    "version": 3
   },
   "file_extension": ".py",
   "mimetype": "text/x-python",
   "name": "python",
   "nbconvert_exporter": "python",
   "pygments_lexer": "ipython3",
   "version": "3.11.9"
  },
  "orig_nbformat": 4
 },
 "nbformat": 4,
 "nbformat_minor": 2
}
