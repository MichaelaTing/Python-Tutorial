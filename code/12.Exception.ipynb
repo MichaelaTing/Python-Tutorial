{
 "cells": [
  {
   "cell_type": "markdown",
   "metadata": {},
   "source": [
    "# 异常检查和处理"
   ]
  },
  {
   "cell_type": "code",
   "execution_count": 1,
   "metadata": {},
   "outputs": [
    {
     "name": "stdout",
     "output_type": "stream",
     "text": [
      "[Errno 2] No such file or directory: 'file/no_file.txt'\n",
      "new file 'no_file.txt' has been written\n"
     ]
    }
   ],
   "source": [
    "try:\n",
    "    with open(\"file/no_file.txt\", \"r\") as f:\n",
    "        print(f.read())\n",
    "except FileNotFoundError as e:\n",
    "    print(e)\n",
    "    with open(\"file/no_file.txt\", \"w\") as f:\n",
    "        f.write(\"I'm no_file.txt\")\n",
    "    print(\"new file 'no_file.txt' has been written\")"
   ]
  },
  {
   "cell_type": "code",
   "execution_count": 11,
   "metadata": {},
   "outputs": [
    {
     "name": "stdout",
     "output_type": "stream",
     "text": [
      "key or index error for: 'gender'\n"
     ]
    }
   ],
   "source": [
    "# 处理多个异常，按照正常的执行顺序，依次检测异常，报出第一个遇到的异常\n",
    "d = {\"name\": \"f1\", \"age\": 2}\n",
    "l = [1,2,3]\n",
    "try:\n",
    "    v = d[\"gender\"]\n",
    "    l[3] = 4\n",
    "except (KeyError, IndexError) as e:\n",
    "    print(\"key or index error for:\", e)"
   ]
  },
  {
   "cell_type": "code",
   "execution_count": 3,
   "metadata": {},
   "outputs": [
    {
     "name": "stdout",
     "output_type": "stream",
     "text": [
      "key error for: 'gender'\n",
      "{'name': 'f1', 'age': 2, 'gender': 'x'}\n",
      "[1, 2, 3]\n"
     ]
    }
   ],
   "source": [
    "# 只有当字典正常的时候，列表的报错才会触发\n",
    "d = {\"name\": \"f1\", \"age\": 2}\n",
    "l = [1,2,3]\n",
    "try:\n",
    "    v = d[\"gender\"]\n",
    "    l[3] = 4\n",
    "except KeyError as e:\n",
    "    print(\"key error for:\", e)\n",
    "    d[\"gender\"] = \"x\"\n",
    "except IndexError as e:\n",
    "    print(\"index error for:\", e)\n",
    "    l.append(4)\n",
    "print(d)\n",
    "print(l)"
   ]
  },
  {
   "cell_type": "code",
   "execution_count": 5,
   "metadata": {},
   "outputs": [
    {
     "name": "stdout",
     "output_type": "stream",
     "text": [
      "list assignment index out of range\n",
      "no error, now in else\n"
     ]
    }
   ],
   "source": [
    "# try-except-else 模式\n",
    "l = [1,2,3]\n",
    "try:\n",
    "    l[3] = 4\n",
    "except IndexError as e:\n",
    "    print(e)\n",
    "else:\n",
    "    print(\"no error, now in else\")\n",
    "\n",
    "l = [1,2,3,4]\n",
    "try:\n",
    "    l[3] = 4\n",
    "except IndexError as e:\n",
    "    print(e)\n",
    "else:\n",
    "    print(\"no error, now in else\")"
   ]
  },
  {
   "cell_type": "code",
   "execution_count": 6,
   "metadata": {},
   "outputs": [
    {
     "name": "stdout",
     "output_type": "stream",
     "text": [
      "list assignment index out of range\n",
      "reach finally\n",
      "reach finally\n"
     ]
    }
   ],
   "source": [
    "# try-except-finally 模式\n",
    "# else 是为了执行没有异常的状况，finally 是为了执行不管有没有异常的情况\n",
    "l = [1,2,3]\n",
    "try:\n",
    "    l[3] = 4\n",
    "except IndexError as e:\n",
    "    print(e)\n",
    "finally:\n",
    "    print(\"reach finally\")\n",
    "\n",
    "l = [1,2,3,4]\n",
    "try:\n",
    "    l[3] = 4\n",
    "except IndexError as e:\n",
    "    print(e)\n",
    "finally:\n",
    "    print(\"reach finally\")"
   ]
  },
  {
   "cell_type": "code",
   "execution_count": 7,
   "metadata": {},
   "outputs": [
    {
     "ename": "ValueError",
     "evalue": "I said no negative",
     "output_type": "error",
     "traceback": [
      "\u001b[0;31m---------------------------------------------------------------------------\u001b[0m",
      "\u001b[0;31mValueError\u001b[0m                                Traceback (most recent call last)",
      "\u001b[0;32m<ipython-input-7-5998f41914c3>\u001b[0m in \u001b[0;36m<module>\u001b[0;34m\u001b[0m\n\u001b[1;32m      5\u001b[0m     \u001b[0;32mreturn\u001b[0m \u001b[0mnum\u001b[0m\u001b[0;34m\u001b[0m\u001b[0;34m\u001b[0m\u001b[0m\n\u001b[1;32m      6\u001b[0m \u001b[0;34m\u001b[0m\u001b[0m\n\u001b[0;32m----> 7\u001b[0;31m \u001b[0mprint\u001b[0m\u001b[0;34m(\u001b[0m\u001b[0mno_negative\u001b[0m\u001b[0;34m(\u001b[0m\u001b[0;34m-\u001b[0m\u001b[0;36m1\u001b[0m\u001b[0;34m)\u001b[0m\u001b[0;34m)\u001b[0m\u001b[0;34m\u001b[0m\u001b[0;34m\u001b[0m\u001b[0m\n\u001b[0m",
      "\u001b[0;32m<ipython-input-7-5998f41914c3>\u001b[0m in \u001b[0;36mno_negative\u001b[0;34m(num)\u001b[0m\n\u001b[1;32m      2\u001b[0m \u001b[0;32mdef\u001b[0m \u001b[0mno_negative\u001b[0m\u001b[0;34m(\u001b[0m\u001b[0mnum\u001b[0m\u001b[0;34m)\u001b[0m\u001b[0;34m:\u001b[0m\u001b[0;34m\u001b[0m\u001b[0;34m\u001b[0m\u001b[0m\n\u001b[1;32m      3\u001b[0m     \u001b[0;32mif\u001b[0m \u001b[0mnum\u001b[0m \u001b[0;34m<\u001b[0m \u001b[0;36m0\u001b[0m\u001b[0;34m:\u001b[0m\u001b[0;34m\u001b[0m\u001b[0;34m\u001b[0m\u001b[0m\n\u001b[0;32m----> 4\u001b[0;31m         \u001b[0;32mraise\u001b[0m \u001b[0mValueError\u001b[0m\u001b[0;34m(\u001b[0m\u001b[0;34m\"I said no negative\"\u001b[0m\u001b[0;34m)\u001b[0m\u001b[0;34m\u001b[0m\u001b[0;34m\u001b[0m\u001b[0m\n\u001b[0m\u001b[1;32m      5\u001b[0m     \u001b[0;32mreturn\u001b[0m \u001b[0mnum\u001b[0m\u001b[0;34m\u001b[0m\u001b[0;34m\u001b[0m\u001b[0m\n\u001b[1;32m      6\u001b[0m \u001b[0;34m\u001b[0m\u001b[0m\n",
      "\u001b[0;31mValueError\u001b[0m: I said no negative"
     ]
    }
   ],
   "source": [
    "# 当为别人提供功能时，就要学会用 raise\n",
    "def no_negative(num):\n",
    "    if num < 0:\n",
    "        raise ValueError(\"I said no negative\")\n",
    "    return num\n",
    "\n",
    "print(no_negative(-1))"
   ]
  },
  {
   "cell_type": "markdown",
   "metadata": {},
   "source": [
    "## 异常错误名称表\n",
    "| 异常名称 | 描述  |\n",
    "| --- | --- |\n",
    "| BaseException | 所有异常的基类 |\n",
    "| SystemExit | 解释器请求退出 |\n",
    "| KeyboardInterrupt | 用户中断执行(通常是输入^C) |\n",
    "| Exception | 常规错误的基类 |\n",
    "| StopIteration | 迭代器没有更多的值 |\n",
    "| GeneratorExit | 生成器(generator)发生异常来通知退出 |\n",
    "| StandardError | 所有的内建标准异常的基类 |\n",
    "| ArithmeticError | 所有数值计算错误的基类 |\n",
    "| FloatingPointError | 浮点计算错误 |\n",
    "| OverflowError | 数值运算超出最大限制 |\n",
    "| ZeroDivisionError | 除(或取模)零 (所有数据类型) |\n",
    "| AssertionError | 断言语句失败 |\n",
    "| AttributeError | 对象没有这个属性 |\n",
    "| EOFError | 没有内建输入,到达EOF 标记 |\n",
    "| EnvironmentError | 操作系统错误的基类 |\n",
    "| IOError | 输入/输出操作失败 |\n",
    "| OSError | 操作系统错误 |\n",
    "| WindowsError | 系统调用失败 |\n",
    "| ImportError | 导入模块/对象失败 |\n",
    "| LookupError | 无效数据查询的基类 |\n",
    "| IndexError | 序列中没有此索引(index) |\n",
    "| KeyError | 映射中没有这个键 |\n",
    "| MemoryError | 内存溢出错误(对于Python 解释器不是致命的) |\n",
    "| NameError | 未声明/初始化对象 (没有属性) |\n",
    "| UnboundLocalError | 访问未初始化的本地变量 |\n",
    "| ReferenceError | 弱引用(Weak reference)试图访问已经垃圾回收了的对象 |\n",
    "| RuntimeError | 一般的运行时错误 |\n",
    "| NotImplementedError | 尚未实现的方法 |\n",
    "| SyntaxError | Python 语法错误 |\n",
    "| IndentationError | 缩进错误 |\n",
    "| TabError | Tab 和空格混用 |\n",
    "| SystemError | 一般的解释器系统错误 |\n",
    "| TypeError | 对类型无效的操作 |\n",
    "| ValueError | 传入无效的参数 |\n",
    "| UnicodeError | Unicode 相关的错误 |\n",
    "| UnicodeDecodeError | Unicode 解码时的错误 |\n",
    "| UnicodeEncodeError | Unicode 编码时错误 |\n",
    "| UnicodeTranslateError | Unicode 转换时错误 |\n",
    "| Warning | 警告的基类 |\n",
    "| DeprecationWarning | 关于被弃用的特征的警告 |\n",
    "| FutureWarning | 关于构造将来语义会有改变的警告 |\n",
    "| OverflowWarning | 旧的关于自动提升为长整型(long)的警告 |\n",
    "| PendingDeprecationWarning | 关于特性将会被废弃的警告 |\n",
    "| RuntimeWarning | 可疑的运行时行为(runtime behavior)的警告 |\n",
    "| SyntaxWarning | 可疑的语法的警告 |\n",
    "| UserWarning | 用户代码生成的警告 |"
   ]
  }
 ],
 "metadata": {
  "kernelspec": {
   "display_name": "Python 3.8.6 ('torch')",
   "language": "python",
   "name": "python3"
  },
  "language_info": {
   "codemirror_mode": {
    "name": "ipython",
    "version": 3
   },
   "file_extension": ".py",
   "mimetype": "text/x-python",
   "name": "python",
   "nbconvert_exporter": "python",
   "pygments_lexer": "ipython3",
   "version": "3.8.6"
  },
  "orig_nbformat": 4,
  "vscode": {
   "interpreter": {
    "hash": "59a952c6e241a26c2846444102601f9ad365365f06d32145faf788e20fd176b1"
   }
  }
 },
 "nbformat": 4,
 "nbformat_minor": 2
}
