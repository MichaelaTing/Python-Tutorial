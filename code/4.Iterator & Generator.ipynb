{
 "cells": [
  {
   "cell_type": "markdown",
   "metadata": {},
   "source": [
    "# 迭代器与生成器\n",
    "\n",
    "## 迭代器\n",
    "\n",
    "迭代器对象从集合的第一个元素开始访问，直到所有的元素被访问完结束。迭代器只能往前不会后退。\n",
    "\n",
    "迭代器有两个基本的方法：`iter()` 和 `next()`，字符串，列表或元组对象都可用于创建迭代器。迭代器对象可以使用常规 `for` 语句进行遍历，也可以使用 `next()` 函数来遍历。"
   ]
  },
  {
   "cell_type": "code",
   "execution_count": 1,
   "metadata": {},
   "outputs": [
    {
     "name": "stdout",
     "output_type": "stream",
     "text": [
      "a s d f g h j k l \n",
      "1 2 3 4 "
     ]
    }
   ],
   "source": [
    "# 1、字符创创建迭代器对象\n",
    "str1 = 'asdfghjkl'\n",
    "iter1 = iter ( str1 )\n",
    "\n",
    "# 2、list对象创建迭代器\n",
    "list1 = [1,2,3,4]\n",
    "iter2 = iter ( list1 )\n",
    "\n",
    "# 3、tuple(元祖) 对象创建迭代器\n",
    "tuple1 = ( 1,2,3,4 )\n",
    "iter3 = iter ( tuple1 )\n",
    "\n",
    "# for 循环遍历迭代器对象\n",
    "for x in iter1 :\n",
    "    print ( x , end = ' ' )\n",
    "\n",
    "print()\n",
    "\n",
    "# next() 函数遍历迭代器\n",
    "while True :\n",
    "    try :\n",
    "        print ( next ( iter3 ), end=' ' )\n",
    "    except StopIteration :\n",
    "        break"
   ]
  },
  {
   "cell_type": "markdown",
   "metadata": {},
   "source": [
    "### 列表生成式"
   ]
  },
  {
   "cell_type": "markdown",
   "metadata": {},
   "source": [
    "list 生成式的语法为：\n",
    "\n",
    "```python\n",
    "[expr for iter_var in iterable] \n",
    "[expr for iter_var in iterable if cond_expr]\n",
    "```"
   ]
  },
  {
   "cell_type": "code",
   "execution_count": 2,
   "metadata": {},
   "outputs": [
    {
     "name": "stdout",
     "output_type": "stream",
     "text": [
      "1x1= 1\n",
      "1x2= 2 2x2= 4\n",
      "1x3= 3 2x3= 6 3x3= 9\n",
      "1x4= 4 2x4= 8 3x4=12 4x4=16\n",
      "1x5= 5 2x5=10 3x5=15 4x5=20 5x5=25\n",
      "1x6= 6 2x6=12 3x6=18 4x6=24 5x6=30 6x6=36\n",
      "1x7= 7 2x7=14 3x7=21 4x7=28 5x7=35 6x7=42 7x7=49\n",
      "1x8= 8 2x8=16 3x8=24 4x8=32 5x8=40 6x8=48 7x8=56 8x8=64\n",
      "1x9= 9 2x9=18 3x9=27 4x9=36 5x9=45 6x9=54 7x9=63 8x9=72 9x9=81\n"
     ]
    }
   ],
   "source": [
    "# 打印九九乘法表\n",
    "print('\\n'.join(' '.join ('%dx%d=%2d' % (x,y,x*y)  for x in range(1,y+1)) for y in range(1,10)))"
   ]
  },
  {
   "cell_type": "markdown",
   "metadata": {},
   "source": [
    "### 反向迭代"
   ]
  },
  {
   "cell_type": "code",
   "execution_count": 3,
   "metadata": {},
   "outputs": [
    {
     "name": "stdout",
     "output_type": "stream",
     "text": [
      "5 4 3 2 1 "
     ]
    }
   ],
   "source": [
    "list1 = [1,2,3,4,5]\n",
    "for num1 in reversed(list1) :\n",
    "    print ( num1 , end = ' ' )"
   ]
  },
  {
   "cell_type": "markdown",
   "metadata": {},
   "source": [
    "反向迭代仅仅当对象的大小可预先确定或者对象实现了 `__reversed__()` 的特殊方法时才能生效。 如果两者都不符合，必须先将对象转换为一个列表才行。\n",
    "\n",
    "### 同时迭代多个序列"
   ]
  },
  {
   "cell_type": "code",
   "execution_count": 4,
   "metadata": {},
   "outputs": [
    {
     "name": "stdout",
     "output_type": "stream",
     "text": [
      "aaa 18\n",
      "bbb 19\n",
      "ccc 20\n"
     ]
    }
   ],
   "source": [
    "# -*- coding: UTF-8 -*-\n",
    "names = ['aaa', 'bbb', 'ccc']\n",
    "ages = [18, 19, 20]\n",
    "for name, age in zip(names, ages):\n",
    "     print(name, age)"
   ]
  },
  {
   "cell_type": "markdown",
   "metadata": {},
   "source": [
    "`zip(a, b)` 会生成一个可返回元组 `(x, y)` 的迭代器，其中 `x` 来自 `a`，`y` 来自 `b`。 一旦其中某个序列到底结尾，迭代宣告结束，因此迭代长度跟参数中最短序列长度一致。利用 `zip()` 函数，还可把一个 key 列表和一个 value 列表生成一个 dict 。"
   ]
  },
  {
   "cell_type": "code",
   "execution_count": 5,
   "metadata": {},
   "outputs": [
    {
     "name": "stdout",
     "output_type": "stream",
     "text": [
      "{'aaa': 18, 'bbb': 19, 'ccc': 20}\n"
     ]
    }
   ],
   "source": [
    "# -*- coding: UTF-8 -*-\n",
    "names = ['aaa', 'bbb', 'ccc']\n",
    "ages = [18, 19, 20]\n",
    "\n",
    "dict1= dict(zip(names,ages))\n",
    "print(dict1)"
   ]
  },
  {
   "cell_type": "markdown",
   "metadata": {},
   "source": [
    "## 生成器\n",
    "\n",
    "受到内存限制，列表容量肯定是有限的。如果列表元素可以按照某种算法推算出来，那我们可以在循环的过程中不断推算出后续的元素，这样就不必创建完整的 list，从而节省大量的空间。在 Python 中，这种一边循环一边计算的机制，称为生成器：generator。\n",
    "\n",
    "在 Python 中，使用了 `yield` 的函数被称为生成器。生成器是一个返回迭代器的函数，只能用于迭代操作，简单理解生成器就是一个迭代器。\n",
    "\n",
    "在调用生成器运行的过程中，每次遇到 `yield` 时函数会暂停并保存当前所有的运行信息，返回 `yield` 的值。并在下一次执行 `next()` 方法时从当前位置继续运行。\n",
    "\n",
    "创建生成器：最简单的方法就是把一个列表生成式的 `[]` 改成 `()`："
   ]
  },
  {
   "cell_type": "code",
   "execution_count": 6,
   "metadata": {},
   "outputs": [
    {
     "name": "stdout",
     "output_type": "stream",
     "text": [
      "<generator object <genexpr> at 0x10bfe7510>\n"
     ]
    }
   ],
   "source": [
    "# -*- coding: UTF-8 -*-\n",
    "gen= (x * x for x in range(10))\n",
    "print(gen)"
   ]
  },
  {
   "cell_type": "markdown",
   "metadata": {},
   "source": [
    "生成器并不真正创建数字列表， 而是返回一个生成器，在每次计算出一个条目后把这个条目 `yield` 出来。生成器表达式使用了“惰性计算”，只有在检索时才被赋值，所以在列表比较长的情况下使用内存上更有效。可以用`for`循环遍历："
   ]
  },
  {
   "cell_type": "code",
   "execution_count": 7,
   "metadata": {},
   "outputs": [
    {
     "name": "stdout",
     "output_type": "stream",
     "text": [
      "0\n",
      "1\n",
      "4\n",
      "9\n",
      "16\n",
      "25\n",
      "36\n",
      "49\n",
      "64\n",
      "81\n"
     ]
    }
   ],
   "source": [
    "# -*- coding: UTF-8 -*-\n",
    "gen= (x * x for x in range(10))\n",
    "for num  in  gen :\n",
    "    print(num)"
   ]
  },
  {
   "cell_type": "markdown",
   "metadata": {},
   "source": [
    "把函数变成生成器，只需要把 `print ( i )` 改为 `yield i` 就可以了："
   ]
  },
  {
   "cell_type": "code",
   "execution_count": 8,
   "metadata": {},
   "outputs": [
    {
     "name": "stdout",
     "output_type": "stream",
     "text": [
      "<generator object my_function at 0x10bfe6a80>\n"
     ]
    }
   ],
   "source": [
    "# -*- coding: UTF-8 -*-\n",
    "def my_function():\n",
    "    for i in range(10):\n",
    "        yield i\n",
    "\n",
    "print(my_function())"
   ]
  },
  {
   "cell_type": "markdown",
   "metadata": {},
   "source": [
    "但是这个例子发挥不出生成器的特点，生成器的最好应用是：不想同一时间将所有计算出来的大量结果集分配到内存当中，特别是结果集里还包含循环，因为这样会耗很大的资源。比如下面是一个计算斐波那契数列的生成器："
   ]
  },
  {
   "cell_type": "code",
   "execution_count": 9,
   "metadata": {},
   "outputs": [
    {
     "name": "stdout",
     "output_type": "stream",
     "text": [
      "1 1 2 3 5 8 13 21 34 55 89 144 233 377 610 987 1597 2584 4181 6765 10946 17711 28657 46368 75025 121393 196418 317811 514229 832040 1346269 2178309 3524578 5702887 9227465 14930352 24157817 39088169 63245986 102334155 165580141 267914296 433494437 701408733 1134903170 1836311903 2971215073 4807526976 7778742049 12586269025 20365011074 32951280099 53316291173 86267571272 139583862445 225851433717 365435296162 591286729879 956722026041 1548008755920 2504730781961 4052739537881 6557470319842 10610209857723 17167680177565 27777890035288 44945570212853 72723460248141 117669030460994 190392490709135 308061521170129 498454011879264 806515533049393 1304969544928657 2111485077978050 3416454622906707 5527939700884757 8944394323791464 14472334024676221 23416728348467685 37889062373143906 61305790721611591 99194853094755497 160500643816367088 259695496911122585 420196140727489673 679891637638612258 1100087778366101931 1779979416004714189 2880067194370816120 4660046610375530309 7540113804746346429 12200160415121876738 19740274219868223167 31940434634990099905 51680708854858323072 83621143489848422977 135301852344706746049 218922995834555169026 354224848179261915075 "
     ]
    }
   ],
   "source": [
    "# -*- coding: UTF-8 -*-\n",
    "def fibon(n):\n",
    "    a = b = 1\n",
    "    for i in range(n):\n",
    "        yield a\n",
    "        a, b = b, a + b\n",
    "\n",
    "# 引用函数\n",
    "for x in fibon(100):\n",
    "    print(x , end = ' ')"
   ]
  },
  {
   "cell_type": "markdown",
   "metadata": {},
   "source": [
    "运行一个这么大的参数也不会有卡死的状态，因为这种方式不会使用太大的资源。这里，最难理解的就是 generator 和函数的执行流程不一样。函数是顺序执行，遇到 `return` 语句或者最后一行函数语句就返回。而变成 generator 的函数，在每次调用 `next(`) 的时候执行，遇到 `yield` 语句返回，再次执行时从上次返回的 `yield` 语句处继续执行。"
   ]
  },
  {
   "cell_type": "code",
   "execution_count": 10,
   "metadata": {},
   "outputs": [
    {
     "name": "stdout",
     "output_type": "stream",
     "text": [
      "step 1\n",
      "1\n",
      "step 2\n",
      "3\n",
      "step 3\n",
      "5\n"
     ]
    }
   ],
   "source": [
    "# -*- coding: UTF-8 -*-\n",
    "def odd():\n",
    "    print ( 'step 1' )\n",
    "    yield ( 1 )\n",
    "    print ( 'step 2' )\n",
    "    yield ( 3 )\n",
    "    print ( 'step 3' )\n",
    "    yield ( 5 )\n",
    "\n",
    "o = odd()\n",
    "print( next( o ) )\n",
    "print( next( o ) )\n",
    "print( next( o ) )"
   ]
  },
  {
   "attachments": {},
   "cell_type": "markdown",
   "metadata": {},
   "source": [
    "可以看到，odd 是 generator，在执行过程中，遇到 yield 就中断，下次又继续执行。执行 3 次 yield 后，已经没有 yield 可以执行了，如果继续打印 `print( next( o ) )` 就会报错。所以通常在 generator 函数中都要对错误进行捕获。"
   ]
  },
  {
   "cell_type": "markdown",
   "metadata": {},
   "source": [
    "直接利用生成器的知识点来打印杨辉三角："
   ]
  },
  {
   "cell_type": "code",
   "execution_count": 11,
   "metadata": {},
   "outputs": [
    {
     "name": "stdout",
     "output_type": "stream",
     "text": [
      "[1]\n",
      "[1, 1]\n",
      "[1, 2, 1]\n",
      "[1, 3, 3, 1]\n",
      "[1, 4, 6, 4, 1]\n",
      "[1, 5, 10, 10, 5, 1]\n",
      "[1, 6, 15, 20, 15, 6, 1]\n",
      "[1, 7, 21, 35, 35, 21, 7, 1]\n",
      "[1, 8, 28, 56, 70, 56, 28, 8, 1]\n",
      "[1, 9, 36, 84, 126, 126, 84, 36, 9, 1]\n"
     ]
    }
   ],
   "source": [
    "# -*- coding: UTF-8 -*-\n",
    "def triangles( n ):         # 杨辉三角形\n",
    "    L = [1]\n",
    "    while True:\n",
    "        yield L\n",
    "        L.append(0)\n",
    "        L = [ L [ i-1 ] + L [ i ] for i in range (len(L))]\n",
    "\n",
    "n = 0\n",
    "cnt = 10\n",
    "for t in triangles( cnt ):   \n",
    "    print(t)\n",
    "    n = n + 1\n",
    "    if n == cnt:\n",
    "        break"
   ]
  }
 ],
 "metadata": {
  "kernelspec": {
   "display_name": "base",
   "language": "python",
   "name": "python3"
  },
  "language_info": {
   "codemirror_mode": {
    "name": "ipython",
    "version": 3
   },
   "file_extension": ".py",
   "mimetype": "text/x-python",
   "name": "python",
   "nbconvert_exporter": "python",
   "pygments_lexer": "ipython3",
   "version": "3.11.9"
  },
  "orig_nbformat": 4
 },
 "nbformat": 4,
 "nbformat_minor": 2
}
