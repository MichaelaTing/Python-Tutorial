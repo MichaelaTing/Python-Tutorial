{
 "cells": [
  {
   "cell_type": "markdown",
   "metadata": {},
   "source": [
    "# 模块和包\n",
    "\n",
    "在 Python 中，一个 `.py` 文件就称之为一个模块（Module）。\n",
    "\n",
    "函数和模块都是用来实现功能的，只是模块的范围比函数广，模块中可以有多个函数。 为什么需要模块？最大的好处是大大提高了代码的可维护性。\n",
    "\n",
    "其次，编写代码不必从零开始。当一个模块编写完毕，就可以被其他地方引用。我们在编写程序的时候也经常引用其他模块，包括内置的模块和来自第三方的模块。\n",
    "\n",
    "使用模块还可以避免函数名和变量名冲突。相同名字的函数和变量完全可以分别存在不同的模块中。但也要注意尽量不要与内置函数名字冲突。\n",
    "\n",
    "```python\n",
    "import module\n",
    "```\n",
    "\n",
    "涉及到 Python 的搜索路径，搜索路径是由一系列目录名组成的，Python 解释器依次从这些目录中去寻找所引入的模块。"
   ]
  },
  {
   "cell_type": "code",
   "execution_count": null,
   "metadata": {},
   "outputs": [],
   "source": [
    "#!/usr/bin/env python\n",
    "# -*- coding: UTF-8 -*-\n",
    "\n",
    "import sys\n",
    "print(sys.path)"
   ]
  },
  {
   "cell_type": "markdown",
   "metadata": {},
   "source": [
    "如果一个模块被直接使用，而没有被别人调用，称这个模块为主模块；如果一个模块被别人调用，称这个模块为非主模块。\n",
    "\n",
    "`__name__` 变量可以判断一个模块是否是主模块。如果一个属性的值是 `__main__` ，那么就说明这个模块是主模块，反之亦然。但是要注意，这个 `__main__` 属性只是帮助我们判断是否是主模块，并不是说这个属性决定他们是否是主模块，决定是否是主模块的条件只是这个模块有没有被人调用。"
   ]
  },
  {
   "cell_type": "markdown",
   "metadata": {},
   "source": [
    "为了避免模块名冲突，Python 又引入了按目录来组织模块的方法，称为包（Package）。\n",
    "\n",
    "每一个包目录下面都会有一个 `__init__.py` 的文件，这个文件是必须的，否则 Python 就把这个目录当成普通目录，而不是一个包 。 `__init__.py` 可以是空文件，也可以有Python代码，因为 `__init__.py` 本身就是一个模块，而它对应的模块名就是它的包名。"
   ]
  },
  {
   "cell_type": "markdown",
   "metadata": {},
   "source": [
    "## 作用域\n",
    "\n",
    "在 Python 中，私有（private）是通过 _ 前缀来实现的。\n",
    "\n",
    "正常的函数和变量名是公开的（public），可以被直接引用。\n",
    "\n",
    "类似`__xxx__`这样的变量是特殊变量，可以被直接引用，但是有特殊用途，比如上面的 `__name__` 就是特殊变量，还有 `__author__` 也是特殊变量，用来标明作者。\n",
    "\n",
    "类似 `_xxx` 和 `__xxx` 这样的函数或变量就是非公开的（private），不应该被直接引用，比如 _abc ，__abc 等。\n",
    "\n",
    "一般情况下，外部不需要引用的函数全部定义成 private，只有外部需要引用的函数才定义为 public。"
   ]
  }
 ],
 "metadata": {
  "interpreter": {
   "hash": "59a952c6e241a26c2846444102601f9ad365365f06d32145faf788e20fd176b1"
  },
  "kernelspec": {
   "display_name": "Python 3.8.8 ('torch')",
   "language": "python",
   "name": "python3"
  },
  "language_info": {
   "codemirror_mode": {
    "name": "ipython",
    "version": 3
   },
   "file_extension": ".py",
   "mimetype": "text/x-python",
   "name": "python",
   "nbconvert_exporter": "python",
   "pygments_lexer": "ipython3",
   "version": "3.8.6"
  },
  "orig_nbformat": 4
 },
 "nbformat": 4,
 "nbformat_minor": 2
}
