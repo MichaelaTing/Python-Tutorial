{
 "cells": [
  {
   "attachments": {},
   "cell_type": "markdown",
   "metadata": {},
   "source": [
    "# 基础知识\n",
    "\n",
    "Python是一种解释型语言，代码在运行之前不需要编译。代码编写快，但是运行速度比编译语言通常要慢。\n",
    "\n",
    "Python是动态类型语言，在声明变量时不需要说明变量的类型。\n",
    "\n",
    "Python适合面向对象的编程，它支持通过组合与继承的方式定义类。\n",
    "\n",
    "## 代码规范\n",
    "\n",
    "1. 文件头部加入 `#-*-coding:utf-8-*-` 标识；\n",
    "2. `import` 语句分行书写；\n",
    "3. 函数的参数列表中，默认值等号两边不要添加空格；\n",
    "4. 模块使用小写命名，首字母保持小写，尽量不要用下划线；\n",
    "5. 类名使用驼峰命名风格，首字母大写，私有类用一个下划线开头；\n",
    "6. 函数名一律小写，如有多个单词，用下划线隔开，私有函数在函数前加一个下划线；\n",
    "7. 变量名尽量小写，如有多个单词，用下划线隔开；\n",
    "8. 常量采用全大写，如有多个单词，用下划线隔开；\n",
    "\n",
    "## 数据类型\n",
    "\n",
    "### 基本数据类型\n",
    "\n",
    "1. 字符串 string：以`''`或`\"\"`括起来，转义符`\\`\n",
    "2. 整数 integer：`/`为除法，输出浮点数；`%`为余数；`**`为幂；`//`为整数除，支持`+=`、`-=`、`*=`、`/=`\n",
    "3. 浮点数 float\n",
    "4. 布尔值：`True` 和 `False`，布尔值可以用 `and`、`or` 和 `not` 运算\n",
    "5. 空值：`None`\n",
    "\n",
    "### 字符串编码\n",
    "\n",
    "1. 8个比特（**bit**）作为一个字节（**byte**），一个字节能表示的最大的整数是255。0 - 255被用来表示大小写英文字母、数字和一些符号，这个编码表被称为 **ASCII** 编码。\n",
    "2. 中国制定了 **GB2312** 编码，用来把中文编进去。\n",
    "3. **Unicode** 把所有语言都统一到一套编码里，这样就不会再有乱码问题了。\n",
    "\n",
    "由于 Python 源代码是一个文本文件，所以当源代码中包含中文的时候，在保存源代码时，就需要务必指定保存为 **UTF-8** 编码，通常在文件开头写上这两行：\n",
    "\n",
    "```python\n",
    "#!/usr/bin/env python3\n",
    "# -*- coding: utf-8 -*-\n",
    "```\n",
    "\n",
    "第一行注释是告诉 Linux/OS X 系统，这是一个 Python 可执行程序，Windows 系统会忽略这个注释；第二行注释是告诉 Python 解释器，按照 UTF-8 编码读取源代码。\n",
    "\n",
    "### 数据类型转换\n",
    "\n",
    "1. `int(x)`\n",
    "2. `float(x)`\n",
    "3. `str(x)`  转换为字符串\n",
    "4. `repr(x)`  转换为表达式字符串\n",
    "5. `eval(x)`  用来计算在字符串中的有效 Python 表达式，并返回一个对象\n",
    "6. `tuple(x)`\n",
    "7. `list(x)`\n",
    "\n",
    "### 变量赋值\n",
    "\n",
    "Python 允许同时为多个变量赋值，也可以同时为多个对象指定多个变量。"
   ]
  }
 ],
 "metadata": {
  "kernelspec": {
   "display_name": "Python 3.8.6 ('torch')",
   "language": "python",
   "name": "python3"
  },
  "language_info": {
   "codemirror_mode": {
    "name": "ipython",
    "version": 3
   },
   "file_extension": ".py",
   "mimetype": "text/x-python",
   "name": "python",
   "nbconvert_exporter": "python",
   "pygments_lexer": "ipython3",
   "version": "3.8.6"
  },
  "orig_nbformat": 4,
  "vscode": {
   "interpreter": {
    "hash": "59a952c6e241a26c2846444102601f9ad365365f06d32145faf788e20fd176b1"
   }
  }
 },
 "nbformat": 4,
 "nbformat_minor": 2
}
