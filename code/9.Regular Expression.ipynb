{
 "cells": [
  {
   "cell_type": "markdown",
   "metadata": {},
   "source": [
    "# 正则表达式\n",
    "\n",
    "正则表达式是一个特殊的字符序列，用于判断一个字符串是否与我们所设定的字符序列是否匹配，也就是说检查一个字符串是否与某种模式匹配。\n",
    "\n",
    "比如在一段字符串中寻找是否含有某个字符或某些字符，通常我们使用内置函数来实现，如下："
   ]
  },
  {
   "cell_type": "code",
   "execution_count": 1,
   "metadata": {},
   "outputs": [
    {
     "name": "stdout",
     "output_type": "stream",
     "text": [
      "是否含有“aaa”这个字符串：True\n",
      "是否含有“aaa”这个字符串：True\n"
     ]
    }
   ],
   "source": [
    "a = 'aaa|bbb|eee|ccc|ddd'\n",
    "\n",
    "print('是否含有“aaa”这个字符串：{0}'.format(a.index('aaa') > -1))\n",
    "print('是否含有“aaa”这个字符串：{0}'.format('aaa' in a))"
   ]
  },
  {
   "cell_type": "markdown",
   "metadata": {},
   "source": [
    "如何使用正则表达式？Python 提供了 `re` 模块来实现正则表达式的所有功能。`re.findall(pattern, string[, flags])` 该函数实现了在字符串中找到正则表达式所匹配的所有子串，并组成一个列表返回。"
   ]
  },
  {
   "cell_type": "code",
   "execution_count": 2,
   "metadata": {},
   "outputs": [
    {
     "name": "stdout",
     "output_type": "stream",
     "text": [
      "['aaa']\n",
      "a 含有“aaa”这个字符串\n"
     ]
    }
   ],
   "source": [
    "import re\n",
    "\n",
    "a = 'aaa|bbb|eee|ccc|ddd'\n",
    "\n",
    "findall = re.findall('aaa', a)\n",
    "print(findall)\n",
    "\n",
    "if len(findall) > 0:\n",
    "    print('a 含有“aaa”这个字符串')\n",
    "else:\n",
    "    print('a 不含有“aaa”这个字符串')"
   ]
  },
  {
   "cell_type": "code",
   "execution_count": 3,
   "metadata": {},
   "outputs": [
    {
     "name": "stdout",
     "output_type": "stream",
     "text": [
      "['a', 'a', 'a', 'b', 'b', 'b', 'e', 'e', 'e', 'c', 'c', 'c', 'd', 'd', 'd']\n",
      "['a', 'a', 'a', 'b', 'b', 'b', 'e', 'e', 'e', 'c', 'c', 'c', 'd', 'd', 'd', '1', '2', '3', '4', '5']\n"
     ]
    }
   ],
   "source": [
    "import re\n",
    "\n",
    "a = 'aaa|bbb|eee|ccc|ddd|12345'\n",
    "\n",
    "re_findall = re.findall('[a-z]', a) # 找出字符串中的所有小写字母\n",
    "\n",
    "print(re_findall)\n",
    "\n",
    "print(re.findall('[0-9a-gA-G]', a))"
   ]
  },
  {
   "cell_type": "markdown",
   "metadata": {},
   "source": [
    "字符集是由一对方括号`[]`括起来的字符集合。使用字符集，可以匹配多个字符中的一个。字符集一对方括号`[]`里面的字符关系是\"或（OR）\"关系。\n",
    "\n",
    "比如 `C[ET]O` 匹配到的是 `CEO` 或 `CTO` ，就是说 `[ET]` 代表的是一个 `E` 或者一个 `T` 。像上面提到的 `[a-z]` 就是所有小写字母中的其中一个，这里使用连字符`-`定义一个连续字符的字符范围。当然这种写法可以包含多个字符范围，比如：`[0-9a-fA-F]` 匹配单个的字母和数字，且不分大小写。注意，字符和范围定义的先后顺序对匹配的结果没有任何影响。"
   ]
  },
  {
   "cell_type": "code",
   "execution_count": 4,
   "metadata": {},
   "outputs": [
    {
     "name": "stdout",
     "output_type": "stream",
     "text": [
      "['uav', 'ubv', 'ucv', 'ucv']\n",
      "['uav', 'ubv', 'ucv', 'ucv']\n",
      "['uwv', 'uzv', 'uov']\n"
     ]
    }
   ],
   "source": [
    "import re\n",
    "a = 'uav,ubv,ucv,uwv,uzv,ucv,uov'\n",
    "\n",
    "# 取 u 和 v 中间是 a 或 b 或 c 的字符\n",
    "print(re.findall('u[abc]v', a))\n",
    "\n",
    "# 如果是连续的字母，数字可以使用 - 来代替\n",
    "print(re.findall('u[a-c]v', a))\n",
    "\n",
    "# 取 u 和 v 中间不是 a 或 b 或 c 的字符\n",
    "print(re.findall('u[^abc]v', a))"
   ]
  },
  {
   "cell_type": "markdown",
   "metadata": {},
   "source": [
    "下面通过字符集的形式解释一些特殊字符。"
   ]
  },
  {
   "cell_type": "code",
   "execution_count": 5,
   "metadata": {},
   "outputs": [
    {
     "name": "stdout",
     "output_type": "stream",
     "text": [
      "['1', '2', '3', '4', '5', '6', '7', '8', '9']\n",
      "['u', 'a', 'v', '_', 'u', 'b', 'v', '_', 'u', 'c', 'v', '_', 'u', 'w', 'v', '_', 'u', 'z', 'v', '_', 'u', 'c', 'v', '_', 'u', 'o', 'v', '&', '$', '#', '@', '-', '-']\n",
      "['u', 'a', 'v', '_', 'u', 'b', 'v', '_', 'u', 'c', 'v', '_', 'u', 'w', 'v', '_', 'u', 'z', 'v', '_', 'u', 'c', 'v', '_', 'u', 'o', 'v', '1', '2', '3', '4', '5', '6', '7', '8', '9']\n"
     ]
    }
   ],
   "source": [
    "import re\n",
    "\n",
    "a = 'uav_ubv_ucv_uwv_uzv_ucv_uov&$#@123-456-789'\n",
    "\n",
    "# \\d 相当于 [0-9], 匹配所有数字字符\n",
    "# \\D 相当于 [^0-9], 匹配所有非数字字符\n",
    "# \\w 匹配包括下划线的任何单词字符，等价于 [A-Za-z0-9_]\n",
    "print(re.findall('\\d', a))\n",
    "print(re.findall('\\D', a))\n",
    "print(re.findall('\\w', a))"
   ]
  },
  {
   "cell_type": "markdown",
   "metadata": {},
   "source": [
    "数量词的词法是：`{min,max}` 。`min` 和 `max` 都是非负整数。如果逗号有而 `max` 被忽略了，则 `max` 没有限制。如果逗号和 `max` 都被忽略了，则重复 `min` 次。比如，`\\b[1-9][0-9]{3}\\b` 匹配的是 1000 ~ 9999 之间的数字(`\\b`表示单词边界），而 `\\b[1-9][0-9]{2,4}\\b` 匹配的是一个在 100 ~ 99999 之间的数字。"
   ]
  },
  {
   "cell_type": "code",
   "execution_count": 6,
   "metadata": {},
   "outputs": [
    {
     "name": "stdout",
     "output_type": "stream",
     "text": [
      "['java', 'android', 'python']\n"
     ]
    }
   ],
   "source": [
    "import re\n",
    "\n",
    "a = 'java*&39android##@@python'\n",
    "\n",
    "findall = re.findall('[a-z]{4,7}', a) # 匹配出字符串中 4 到 7 个字母的英文\n",
    "print(findall)"
   ]
  },
  {
   "cell_type": "markdown",
   "metadata": {},
   "source": [
    "注意，这里有贪婪和非贪婪之分。\n",
    "\n",
    "贪婪模式：一次性读入整个字符串，如果不匹配就吐掉最右边的一个字符再匹配，直到找到匹配的字符串或字符串的长度为 0 为止。它的宗旨是读尽可能多的字符，所以当读到第一个匹配时就立刻返回。\n",
    "\n",
    "懒惰模式：从字符串的左边开始，试图不读入字符串中的字符进行匹配，失败则多读一个字符，再匹配，如此循环，当找到一个匹配时会返回该匹配的字符串，然后再次进行匹配直到字符串结束。\n",
    "\n",
    "上面例子中的就是贪婪的，如果要使用非贪婪，也就是懒惰模式，则加一个 `?` ，上面的例子修改如下："
   ]
  },
  {
   "cell_type": "code",
   "execution_count": 7,
   "metadata": {},
   "outputs": [
    {
     "name": "stdout",
     "output_type": "stream",
     "text": [
      "['java', 'andr', 'pyth']\n"
     ]
    }
   ],
   "source": [
    "import re\n",
    "\n",
    "a = 'java*&39android##@@python'\n",
    "\n",
    "re_findall = re.findall('[a-z]{4,7}?', a)\n",
    "print(re_findall)"
   ]
  },
  {
   "cell_type": "markdown",
   "metadata": {},
   "source": [
    "很多时候需要替换字符串中的字符，这时候就可以用到 `re.sub(pattern, repl, string, count=0, flags=0)` ，前三个为必选参数，后两个为可选参数。\n",
    "\n",
    "| 参数  | 描述  |\n",
    "| --- | --- |\n",
    "| pattern | 表示正则中的模式字符串 |\n",
    "| repl | replacement，被替换的字符串 |\n",
    "| string | 表示要被替换的那个 string 字符串 |\n",
    "| count | 对于pattern中匹配到的结果，count可以控制对前几个group进行替换 |\n",
    "| flags | 正则表达式修饰符 |\n",
    "\n",
    "注意，第二个参数可以传递一个函数，这也是这个方法的强大之处。例如例子里面的函数 `convert` ，对传递进来要替换的字符进行判断，替换成不同的字符。"
   ]
  },
  {
   "cell_type": "code",
   "execution_count": 8,
   "metadata": {},
   "outputs": [
    {
     "name": "stdout",
     "output_type": "stream",
     "text": [
      "Python&Android&Java-888\n",
      "Python&Android*Java-888\n",
      "Python&Android&Java|888\n"
     ]
    }
   ],
   "source": [
    "#!/usr/bin/env python3\n",
    "# -*- coding: UTF-8 -*-\n",
    "\n",
    "import re\n",
    "\n",
    "a = 'Python*Android*Java-888'\n",
    "\n",
    "# 把字符串中的 * 字符替换成 & 字符\n",
    "sub1 = re.sub('\\*', '&', a)\n",
    "print(sub1)\n",
    "\n",
    "# 把字符串中的第一个 * 字符替换成 & 字符\n",
    "sub2 = re.sub('\\*', '&', a, 1)\n",
    "print(sub2)\n",
    "\n",
    "# 把字符串中的 * 字符替换成 & 字符,把字符 - 换成 |\n",
    "def convert(value):\n",
    "    item = value.group()\n",
    "    if (item == '*'):\n",
    "        return '&'\n",
    "    elif (item == '-'):\n",
    "        return '|'\n",
    "\n",
    "# 第二个参数，要替换的字符可以为一个函数\n",
    "sub3 = re.sub('[\\*-]', convert, a)\n",
    "print(sub3)"
   ]
  },
  {
   "cell_type": "markdown",
   "metadata": {},
   "source": [
    "`re.match(pattern, string, flags=0)` 尝试从字符串的起始位置匹配一个模式，如果不是起始位置匹配成功的话，就返回 none。\n",
    "\n",
    "`re.search(pattern, string, flags=0)` 扫描整个字符串并返回第一个成功的匹配。\n",
    "\n",
    "区别：`re.match` 只匹配字符串的开始，如果字符串开始不符合正则表达式，则匹配失败，函数返回 `None`；而 `re.search` 匹配整个字符串，直到找到一个匹配。"
   ]
  },
  {
   "cell_type": "code",
   "execution_count": 9,
   "metadata": {},
   "outputs": [
    {
     "name": "stdout",
     "output_type": "stream",
     "text": [
      "<img src=\"https://s-media-cache-ak0.pinimg.com/originals/a8/c4/9e/a8c49ef606e0e1f3ee39a7b219b5c05e.jpg\">\n",
      "https://s-media-cache-ak0.pinimg.com/originals/a8/c4/9e/a8c49ef606e0e1f3ee39a7b219b5c05e.jpg\n",
      "['https://s-media-cache-ak0.pinimg.com/originals/a8/c4/9e/a8c49ef606e0e1f3ee39a7b219b5c05e.jpg']\n",
      "img\n",
      "https://s-media-cache-ak0.pinimg.com/originals/a8/c4/9e/a8c49ef606e0e1f3ee39a7b219b5c05e.jpg\n",
      "('img', 'https://s-media-cache-ak0.pinimg.com/originals/a8/c4/9e/a8c49ef606e0e1f3ee39a7b219b5c05e.jpg')\n",
      "('img', 'https://s-media-cache-ak0.pinimg.com/originals/a8/c4/9e/a8c49ef606e0e1f3ee39a7b219b5c05e.jpg')\n"
     ]
    }
   ],
   "source": [
    "import re\n",
    "\n",
    "a = '<img src=\"https://s-media-cache-ak0.pinimg.com/originals/a8/c4/9e/a8c49ef606e0e1f3ee39a7b219b5c05e.jpg\">'\n",
    "\n",
    "# 使用 re.search\n",
    "search = re.search('<img src=\"(.*)\">', a)\n",
    "# group(0) 是一个完整的分组\n",
    "print(search.group(0))\n",
    "print(search.group(1))\n",
    "\n",
    "# 使用 re.findall\n",
    "findall = re.findall('<img src=\"(.*)\">', a)\n",
    "print(findall)\n",
    "\n",
    "# 多个分组的使用（比如我们需要提取 img 字段和图片地址字段）\n",
    "re_search = re.search('<(.*) src=\"(.*)\">', a)\n",
    "# 打印 \"img\"\n",
    "print(re_search.group(1))\n",
    "# 打印图片地址\n",
    "print(re_search.group(2))\n",
    "# 打印 img 和图片地址，以元祖的形式\n",
    "print(re_search.group(1, 2))\n",
    "# 或者使用 groups\n",
    "print(re_search.groups())"
   ]
  },
  {
   "cell_type": "markdown",
   "metadata": {},
   "source": [
    "在爬虫和数据分析这两个模块中都是离不开正则表达式的。\n",
    "\n",
    "### 按类型匹配"
   ]
  },
  {
   "cell_type": "code",
   "execution_count": 10,
   "metadata": {},
   "outputs": [
    {
     "name": "stdout",
     "output_type": "stream",
     "text": [
      "aaa@edu.com: <re.Match object; span=(0, 11), match='aaa@edu.com'>\n",
      "the email is aaa@edu.com: <re.Match object; span=(13, 24), match='aaa@edu.com'>\n"
     ]
    }
   ],
   "source": [
    "import re\n",
    "matched = re.search(r\"\\w+?@\\w+?\\.com\", \"aaa@edu.com\")\n",
    "print(\"aaa@edu.com:\", matched)\n",
    "matched = re.search(r\"\\w+?@\\w+?\\.com\", \"the email is aaa@edu.com.\")\n",
    "print(\"the email is aaa@edu.com:\", matched)"
   ]
  },
  {
   "cell_type": "code",
   "execution_count": 11,
   "metadata": {},
   "outputs": [
    {
     "name": "stdout",
     "output_type": "stream",
     "text": [
      "<re.Match object; span=(2, 5), match='run'>\n",
      "run\n"
     ]
    }
   ],
   "source": [
    "# r 代表原生字符串， 使用 r 开头的字符串是为了不混淆字符串中到底要写几个 \\\n",
    "match = re.search(r\"run\", \"I run to you\")\n",
    "print(match)\n",
    "print(match.group())"
   ]
  },
  {
   "cell_type": "code",
   "execution_count": 12,
   "metadata": {},
   "outputs": [
    {
     "name": "stdout",
     "output_type": "stream",
     "text": [
      "<re.Match object; span=(2, 5), match='run'>\n",
      "<re.Match object; span=(2, 6), match='find'>\n",
      "<re.Match object; span=(2, 7), match='found'>\n"
     ]
    }
   ],
   "source": [
    "print(re.search(r\"r[au]n\", \"I run to you\"))\n",
    "print(re.search(r\"f(ou|i)nd\", \"I find you\"))\n",
    "print(re.search(r\"f(ou|i)nd\", \"I found you\"))"
   ]
  },
  {
   "cell_type": "markdown",
   "metadata": {},
   "source": [
    "| 特定标识 | 含义  | 范围  |\n",
    "| --- | --- | --- |\n",
    "| \\d  | 任何数字 | [0-9] |\n",
    "| \\D  | 不是数字的 |     |\n",
    "| \\s  | 任何空白字符 | [ \\t \\n \\r \\f \\v] |\n",
    "| \\S  | 空白字符以外的 |     |\n",
    "| \\w  | 任何大小写字母,数字和 _ | [a-zA-Z0-9_] |\n",
    "| \\W  | \\w 以外的 |     |\n",
    "| \\b  | 匹配一个单词边界 | 比如 er\\b 可以匹配 never 中的 er，但不能匹配 verb 中的 er |\n",
    "| \\B  | 匹配非单词边界 | 比如 er\\B 能匹配 verb 中的 er，但不能匹配 never 中的 er |\n",
    "| \\\\  | 强制匹配 \\ |     |\n",
    "| .   | 匹配任何字符 (除了 \\n) |     |\n",
    "| ?   | 前面的模式可有可无 |     |\n",
    "| *   | 重复**零次**或多次 |     |\n",
    "| +   | 重复**一次**或多次 |     |\n",
    "| {n,m} | 重复 n 至 m 次 |     |\n",
    "| {n} | 重复 n 次 |     |\n",
    "| +?  | 非贪婪，最小方式匹配 + |     |\n",
    "| *?  | 非贪婪，最小方式匹配 * |     |\n",
    "| ??  | 非贪婪，最小方式匹配 ? |     |\n",
    "| ^   | 匹配一行开头，在 re.M 下，每行开头都匹配 |     |\n",
    "| $   | 匹配一行结尾，在 re.M 下，每行结尾都匹配 |     |\n",
    "| \\A  | 匹配最开始，在 re.M 下，也从文本最开始 |     |\n",
    "| \\B  | 匹配最结尾，在 re.M 下，也从文本最结尾 |     |"
   ]
  },
  {
   "cell_type": "code",
   "execution_count": 13,
   "metadata": {},
   "outputs": [
    {
     "name": "stdout",
     "output_type": "stream",
     "text": [
      "aaa@edu.com is a valid email: <re.Match object; span=(0, 11), match='aaa@edu.com'>\n",
      "aaa@edu+com is a valid email: None\n"
     ]
    }
   ],
   "source": [
    "import re\n",
    "ptn = re.compile(r\"\\w+?@\\w+?\\.com\")\n",
    "\n",
    "matched = ptn.search(\"aaa@edu.com\")\n",
    "print(\"aaa@edu.com is a valid email:\", matched)\n",
    "matched = ptn.search(\"aaa@edu+com\")\n",
    "print(\"aaa@edu+com is a valid email:\", matched)"
   ]
  },
  {
   "cell_type": "code",
   "execution_count": 14,
   "metadata": {},
   "outputs": [
    {
     "name": "stdout",
     "output_type": "stream",
     "text": [
      "<re.Match object; span=(0, 2), match='我爱'>\n",
      "<re.Match object; span=(0, 2), match='我爱'>\n"
     ]
    }
   ],
   "source": [
    "# 识别所有中文字符，使用 Unicode\n",
    "print(re.search(r\"[\\u4e00-\\u9fa5]+\", \"我爱Python。\"))\n",
    "# 识别所有中文字符和标点\n",
    "print(re.search(r\"[\\u4e00-\\u9fa5！？。，￥【】「」]+\", \"我爱python。python是最好的语言！\"))"
   ]
  },
  {
   "cell_type": "markdown",
   "metadata": {},
   "source": [
    "| 功能  | 说明  | 举例  |\n",
    "| --- | --- | --- |\n",
    "| re.search() | 扫描查找整个字符串，找到第一个模式匹配的 | re.search(rrun, I run to you) > 'run' |\n",
    "| re.match() | 从字符的最开头匹配，找到第一个模式匹配的。**即使用 re.M 多行匹配，也是从最开头开始匹配** | re.match(rrun, I run to you) > None |\n",
    "| re.findall() | 返回一个不重复的 pattern 的匹配列表 | re.findall(rr[ua]n, I run to you. you ran to him) > ['run', 'ran'] |\n",
    "| re.finditer() | 和 findall 一样，只是用迭代器的方式使用 | for item in re.finditer(rr[ua]n, I run to you. you ran to him): |\n",
    "| re.split() | 用正则分开字符串 | re.split(rr[ua]n, I run to you. you ran to him) > ['I ', ' to you. you ', ' to him'] |\n",
    "| re.sub() | 用正则替换字符 | re.sub(rr[ua]n, jump, I run to you. you ran to him) > 'I jump to you. you jump to him' |\n",
    "| re.subn() | 和 sub 一样，额外返回一个替代次数 | re.subn(rr[ua]n, jump, I run to you. you ran to him) > ('I jump to you. you jump to him', 2) |"
   ]
  },
  {
   "cell_type": "code",
   "execution_count": 15,
   "metadata": {},
   "outputs": [
    {
     "name": "stdout",
     "output_type": "stream",
     "text": [
      "search: <re.Match object; span=(2, 5), match='run'>\n",
      "match: None\n",
      "findall: ['run', 'ran']\n",
      "finditer: <re.Match object; span=(2, 5), match='run'>\n",
      "finditer: <re.Match object; span=(18, 21), match='ran'>\n",
      "split: ['I ', ' to you. you ', ' to him']\n",
      "sub: I jump to you. you jump to him\n",
      "subn: ('I jump to you. you jump to him', 2)\n"
     ]
    }
   ],
   "source": [
    "print(\"search:\", re.search(r\"run\", \"I run to you\"))\n",
    "print(\"match:\", re.match(r\"run\", \"I run to you\"))\n",
    "print(\"findall:\", re.findall(r\"r[ua]n\", \"I run to you. you ran to him\"))\n",
    "\n",
    "for i in re.finditer(r\"r[ua]n\", \"I run to you. you ran to him\"):\n",
    "    print(\"finditer:\", i)\n",
    "\n",
    "print(\"split:\", re.split(r\"r[ua]n\", \"I run to you. you ran to him\"))\n",
    "print(\"sub:\", re.sub(r\"r[ua]n\", \"jump\", \"I run to you. you ran to him\"))\n",
    "print(\"subn:\", re.subn(r\"r[ua]n\", \"jump\", \"I run to you. you ran to him\"))"
   ]
  },
  {
   "cell_type": "markdown",
   "metadata": {},
   "source": [
    "### 在模式中获取特定信息"
   ]
  },
  {
   "cell_type": "code",
   "execution_count": 16,
   "metadata": {},
   "outputs": [
    {
     "name": "stdout",
     "output_type": "stream",
     "text": [
      "['2021-02-01', '2021-02-02', '2021-02-03']\n"
     ]
    }
   ],
   "source": [
    "found = []\n",
    "for i in re.finditer(r\"[\\w-]+?\\.jpg\", \"I have 2021-02-01.jpg, 2021-02-02.jpg, 2021-02-03.jpg\"):\n",
    "    found.append(re.sub(r\".jpg\", \"\", i.group()))\n",
    "print(found)"
   ]
  },
  {
   "cell_type": "code",
   "execution_count": 17,
   "metadata": {},
   "outputs": [
    {
     "name": "stdout",
     "output_type": "stream",
     "text": [
      "without (): ['2021-02-01.jpg', '2021-02-02.jpg', '2021-02-03.jpg']\n",
      "with (): ['2021-02-01', '2021-02-02', '2021-02-03']\n"
     ]
    }
   ],
   "source": [
    "# 只要在正则表达中加入一个 () 选定要截取返回的位置， 就直接返回括号里的内容。\n",
    "string = \"I have 2021-02-01.jpg, 2021-02-02.jpg, 2021-02-03.jpg\"\n",
    "print(\"without ():\", re.findall(r\"[\\w-]+?\\.jpg\", string))\n",
    "print(\"with ():\", re.findall(r\"([\\w-]+?)\\.jpg\", string))"
   ]
  },
  {
   "cell_type": "code",
   "execution_count": 18,
   "metadata": {},
   "outputs": [
    {
     "name": "stdout",
     "output_type": "stream",
     "text": [
      "matched string: 2021-02-01.jpg , year: 2021 , month: 02 , day: 01\n",
      "matched string: 2021-02-02.jpg , year: 2021 , month: 02 , day: 02\n",
      "matched string: 2021-02-03.jpg , year: 2021 , month: 02 , day: 03\n"
     ]
    }
   ],
   "source": [
    "string = \"I have 2021-02-01.jpg, 2021-02-02.jpg, 2021-02-03.jpg\"\n",
    "match = re.finditer(r\"(\\d+?)-(\\d+?)-(\\d+?)\\.jpg\", string)\n",
    "for file in match:\n",
    "    print(\"matched string:\", file.group(0), \", year:\", file.group(1), \", month:\", file.group(2), \", day:\", file.group(3)) # file.group(0) 全匹配"
   ]
  },
  {
   "cell_type": "code",
   "execution_count": 19,
   "metadata": {},
   "outputs": [
    {
     "name": "stdout",
     "output_type": "stream",
     "text": [
      "year: 2021 , month: 02 , day: 01\n",
      "year: 2021 , month: 02 , day: 02\n",
      "year: 2021 , month: 02 , day: 03\n"
     ]
    }
   ],
   "source": [
    "# findall 可以达到同样效果，但没有全匹配\n",
    "string = \"I have 2021-02-01.jpg, 2021-02-02.jpg, 2021-02-03.jpg\"\n",
    "match = re.findall(r\"(\\d+?)-(\\d+?)-(\\d+?)\\.jpg\", string)\n",
    "for file in match:\n",
    "    print(\"year:\", file[0], \", month:\", file[1], \", day:\", file[2])"
   ]
  },
  {
   "cell_type": "markdown",
   "metadata": {},
   "source": [
    "有时候我们 `group` 的信息太多了，括号写得太多，让人眼花缭乱怎么办？我们还能用一个名字来索引匹配好的字段， 然后用 `group(\"索引\")` 的方式获取到对应的片段。注意，上面方案中的 `findall` 不提供名字索引的方法， 我们可以用 `search` 或者 `finditer` 来调用 `group` 方法。为了索引，我们需要在括号中写上 `?P<索引名>` 这种模式。"
   ]
  },
  {
   "cell_type": "code",
   "execution_count": 20,
   "metadata": {},
   "outputs": [
    {
     "name": "stdout",
     "output_type": "stream",
     "text": [
      "matched string: 2021-02-01.jpg , year: 2021 , month: 02 , day: 01\n",
      "matched string: 2021-02-02.jpg , year: 2021 , month: 02 , day: 02\n",
      "matched string: 2021-02-03.jpg , year: 2021 , month: 02 , day: 03\n"
     ]
    }
   ],
   "source": [
    "string = \"I have 2021-02-01.jpg, 2021-02-02.jpg, 2021-02-03.jpg\"\n",
    "match = re.finditer(r\"(?P<y>\\d+?)-(?P<m>\\d+?)-(?P<d>\\d+?)\\.jpg\", string)\n",
    "for file in match:\n",
    "    print(\"matched string:\", file.group(0), \n",
    "        \", year:\", file.group(\"y\"), \n",
    "        \", month:\", file.group(\"m\"), \n",
    "        \", day:\", file.group(\"d\"))"
   ]
  },
  {
   "cell_type": "markdown",
   "metadata": {},
   "source": [
    "### 多模式匹配\n",
    "\n",
    "| 模式  | 全称  | 说明  |\n",
    "| --- | --- | --- |\n",
    "| re.I | re.IGNORECASE | 忽略大小写 |\n",
    "| re.M | re.MULTILINE | 多行模式，改变'^'和'$'的行为 |\n",
    "| re.S | re.DOTALL | 点任意匹配模式，改变'.'的行为, 使\".“可以匹配任意字符 |\n",
    "| re.L | re.LOCALE | 使预定字符类 \\w \\W \\b \\B \\s \\S 取决于当前区域设定 |\n",
    "| re.U | re.UNICODE | 使预定字符类 \\w \\W \\b \\B \\s \\S \\d \\D 取决于unicode定义的字符属性 |\n",
    "| re.X | re.VERBOSE | 详细模式。这个模式下正则表达式可以是多行，忽略空白字符，并可以加入注释。以下两个正则表达式是等价的 |"
   ]
  },
  {
   "cell_type": "code",
   "execution_count": 21,
   "metadata": {},
   "outputs": [
    {
     "name": "stdout",
     "output_type": "stream",
     "text": [
      "without re.I: None\n",
      "with re.I: <re.Match object; span=(2, 5), match='Ran'>\n"
     ]
    }
   ],
   "source": [
    "ptn, string = r\"r[ua]n\", \"I Ran to you\"\n",
    "print(\"without re.I:\", re.search(ptn, string))\n",
    "print(\"with re.I:\", re.search(ptn, string, flags=re.I))"
   ]
  },
  {
   "cell_type": "markdown",
   "metadata": {},
   "source": [
    "我们想在每行文字的开头匹配特定字符，如果用 `^ran` 固定样式开头，是匹配不到第二行的 `ran to you` 的，所以我们得加上一个 `re.M` flag。 注意 `re.search()` 和 `re.match()` 不一样，`re.match()` 是不管有没有 `re.M` flag，匹配都是按照最头上开始匹配的。 所以在下面的实验中，`re.match()` 匹配不到任何东西。"
   ]
  },
  {
   "cell_type": "code",
   "execution_count": 22,
   "metadata": {},
   "outputs": [
    {
     "name": "stdout",
     "output_type": "stream",
     "text": [
      "without re.M: None\n",
      "with re.M: <re.Match object; span=(3, 6), match='ran'>\n",
      "with re.M and match: None\n"
     ]
    }
   ],
   "source": [
    "ptn = r\"^ran\"\n",
    "string = \"\"\"I \n",
    "ran to you\"\"\"\n",
    "print(\"without re.M:\", re.search(ptn, string))\n",
    "print(\"with re.M:\", re.search(ptn, string, flags=re.M))\n",
    "print(\"with re.M and match:\", re.match(ptn, string, flags=re.M))"
   ]
  },
  {
   "cell_type": "code",
   "execution_count": 23,
   "metadata": {},
   "outputs": [
    {
     "name": "stdout",
     "output_type": "stream",
     "text": [
      "with re.M and re.I: <re.Match object; span=(2, 5), match='Ran'>\n"
     ]
    }
   ],
   "source": [
    "# 多flag\n",
    "ptn = r\"^ran\"\n",
    "string = \"\"\"I\n",
    "Ran to you\"\"\"\n",
    "print(\"with re.M and re.I:\", re.search(ptn, string, flags=re.M|re.I))"
   ]
  },
  {
   "cell_type": "markdown",
   "metadata": {},
   "source": [
    "### 更快的执行"
   ]
  },
  {
   "cell_type": "code",
   "execution_count": 24,
   "metadata": {},
   "outputs": [
    {
     "name": "stdout",
     "output_type": "stream",
     "text": [
      "不提前 compile 运行时间： 0.9936192035675049\n",
      "提前 compile 运行时间： 0.3965420722961426\n"
     ]
    }
   ],
   "source": [
    "import time\n",
    "n = 1000000\n",
    "# 不提前 compile\n",
    "t0 = time.time()\n",
    "for _ in range(n):\n",
    "    re.search(r\"ran\", \"I ran to you\")\n",
    "t1 = time.time()\n",
    "print(\"不提前 compile 运行时间：\", t1-t0)\n",
    "\n",
    "# 先做 compile\n",
    "ptn = re.compile(r\"ran\")\n",
    "for _ in range(n):\n",
    "    ptn.search(\"I ran to you\")\n",
    "print(\"提前 compile 运行时间：\", time.time()-t1)"
   ]
  }
 ],
 "metadata": {
  "kernelspec": {
   "display_name": "base",
   "language": "python",
   "name": "python3"
  },
  "language_info": {
   "codemirror_mode": {
    "name": "ipython",
    "version": 3
   },
   "file_extension": ".py",
   "mimetype": "text/x-python",
   "name": "python",
   "nbconvert_exporter": "python",
   "pygments_lexer": "ipython3",
   "version": "3.11.9"
  },
  "orig_nbformat": 4
 },
 "nbformat": 4,
 "nbformat_minor": 2
}
