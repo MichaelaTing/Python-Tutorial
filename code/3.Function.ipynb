{
 "cells": [
  {
   "cell_type": "markdown",
   "metadata": {},
   "source": [
    "# 条件语句与循环语句\n",
    "\n",
    "## 条件语句\n",
    "\n",
    "```python\n",
    "if 判断条件1:\n",
    "    执行语句1……\n",
    "elif 判断条件2:\n",
    "    执行语句2……\n",
    "elif 判断条件3:\n",
    "    执行语句3……\n",
    "else:\n",
    "    执行语句4……\n",
    "```\n",
    "\n",
    "可以结合 `or` 和 `and` 来同时判断多个条件。\n",
    "\n",
    "## 循环语句\n",
    "\n",
    "Python 提供了 for 循环和 while 循环。\n",
    "\n",
    "| 循环控制语句 | 描述                                                         |\n",
    "| ------------ | ------------------------------------------------------------ |\n",
    "| break        | 在语句块执行过程中终止循环，并且跳出整个循环                 |\n",
    "| continue     | 在语句块执行过程中终止当前循环，跳出该次循环，执行下一次循环 |\n",
    "| pass         | pass 是空语句，是为了保持程序结构的完整性                    |\n",
    "\n",
    "### for循环（适合在有限的循环中）\n",
    "\n",
    "```python\n",
    "for iterating_var in sequence:\n",
    "   statements\n",
    "```\n",
    "\n",
    "for 循环常常和 `range()` 函数搭配使用的，比如 `range(0,10,2)`：从 0 数到 10（不取 10），每次间隔为 2 。\n",
    "\n",
    "### while循环（适合在无限的循环中）\n",
    "\n",
    "```python\n",
    "while statement:\n",
    "    statement\n",
    "```\n",
    "\n",
    "### 两者区别\n",
    "\n",
    "- for 循环主要用在迭代可迭代对象的情况。\n",
    "- while 循环主要用在需要满足一定条件为真，反复执行的情况。 （死循环+break 退出等情况。）\n",
    "- 部分情况下，for 循环和 while 循环可以互换使用。"
   ]
  },
  {
   "cell_type": "code",
   "execution_count": 1,
   "metadata": {},
   "outputs": [
    {
     "name": "stdout",
     "output_type": "stream",
     "text": [
      "1x1=1\t\n",
      "2x1=2\t2x2=4\t\n",
      "3x1=3\t3x2=6\t3x3=9\t\n",
      "4x1=4\t4x2=8\t4x3=12\t4x4=16\t\n",
      "5x1=5\t5x2=10\t5x3=15\t5x4=20\t5x5=25\t\n",
      "6x1=6\t6x2=12\t6x3=18\t6x4=24\t6x5=30\t6x6=36\t\n",
      "7x1=7\t7x2=14\t7x3=21\t7x4=28\t7x5=35\t7x6=42\t7x7=49\t\n",
      "8x1=8\t8x2=16\t8x3=24\t8x4=32\t8x5=40\t8x6=48\t8x7=56\t8x8=64\t\n",
      "9x1=9\t9x2=18\t9x3=27\t9x4=36\t9x5=45\t9x6=54\t9x7=63\t9x8=72\t9x9=81\t\n"
     ]
    }
   ],
   "source": [
    "# 打印九九乘法表\n",
    "for i in range(1, 10):\n",
    "        for j in range(1, i+1):\n",
    "            # 打印语句中，大括号及其里面的字符 (称作格式化字段) 将会被 .format() 中的参数替换\n",
    "            print('{}x{}={}\\t'.format(i, j, i*j), end='')  \n",
    "        print()"
   ]
  },
  {
   "cell_type": "code",
   "execution_count": 2,
   "metadata": {},
   "outputs": [
    {
     "name": "stdout",
     "output_type": "stream",
     "text": [
      "2024 是闰年\n"
     ]
    }
   ],
   "source": [
    "# 判断是否是闰年\n",
    "year = int(input(\"请输入一个年份: \"))\n",
    "if (year % 4) == 0 and (year % 100) != 0 or (year % 400) == 0:\n",
    "    print('{0} 是闰年' .format(year))\n",
    "else:\n",
    "     print('{0} 不是闰年' .format(year))"
   ]
  },
  {
   "cell_type": "markdown",
   "metadata": {},
   "source": [
    "# 函数\n",
    "\n",
    "函数的组成部分：\n",
    "\n",
    "```python\n",
    "def 函数名(参数1，参数2....参数n):\n",
    "    函数体\n",
    "    return 语句\n",
    "```\n",
    "\n",
    "**不带参数值的 return 语句返回 None。** **Python 一次接受多个返回值的数据类型是元组。**\n",
    "\n"
   ]
  },
  {
   "cell_type": "markdown",
   "metadata": {},
   "source": [
    "## 函数参数\n",
    "\n",
    "### 默认参数\n",
    "\n",
    "默认参数在构造函数参数的时候给参数赋值。**只有在形参表末尾的那些参数可以有默认参数值**。\n",
    "\n",
    "如果参数中是一个可修改的容器比如一个 list （列表）或者 dict （字典），那么可以使用 None 作为默认值。\n",
    "\n",
    "不要给 list 赋默认值 []，因为**默认参数的值是不可变的对象，比如None、True、False、数字或字符串**。如果像上面的那样操作，当默认值在其他地方被修改后将会遇到各种麻烦，这些修改会影响到下次调用这个函数时的默认值："
   ]
  },
  {
   "cell_type": "code",
   "execution_count": 3,
   "metadata": {},
   "outputs": [
    {
     "name": "stdout",
     "output_type": "stream",
     "text": [
      "[]\n",
      "['error']\n"
     ]
    },
    {
     "data": {
      "text/plain": [
       "['error']"
      ]
     },
     "execution_count": 3,
     "metadata": {},
     "output_type": "execute_result"
    }
   ],
   "source": [
    "# -*- coding: UTF-8 -*-\n",
    "def print_info( a , b = [] ):\n",
    "    print(b)\n",
    "    return b \n",
    "\n",
    "result = print_info(1)\n",
    "result.append('error')\n",
    "print_info(2)"
   ]
  },
  {
   "cell_type": "markdown",
   "metadata": {},
   "source": [
    "如果有时候不想要默认值，只是想单单纯判断默认参数有没有值传递进来，那该怎么办？可以这样做：\n"
   ]
  },
  {
   "cell_type": "code",
   "execution_count": 4,
   "metadata": {},
   "outputs": [],
   "source": [
    "_no_value =object()\n",
    "\n",
    "def print_info( a , b = _no_value ):\n",
    "    if b is _no_value :\n",
    "        print('b 没有赋值')\n",
    "    return;"
   ]
  },
  {
   "cell_type": "markdown",
   "metadata": {},
   "source": [
    "这里的 `object` 是 python 中所有类的基类。 你可以创建 `object` 类的实例，但是这些实例没什么实际用处，因为它并没有任何有用的方法， 也没有任何实例数据(因为它没有任何的实例字典，你甚至都不能设置任何属性值)。 你唯一能做的就是测试同一性。正好利用这个特性，来判断是否有值输入。"
   ]
  },
  {
   "cell_type": "markdown",
   "metadata": {},
   "source": [
    "### 关键字参数（位置参数）\n",
    "\n",
    "一般情况下，我们需要给函数传参的时候，是要按顺序来的，如果不对应顺序，就会传错值。\n",
    "\n",
    "不过在 Python 中，可以通过参数名来给函数传递参数，而不用关心参数列表定义时的顺序，这被称之为关键字参数。\n",
    "\n",
    "使用关键参数有两个优势 ：\n",
    "\n",
    "- 由于我们不必担心参数的顺序，使用函数变得更加简单了；\n",
    "- 假设其他参数都有默认值，我们可以只给我们想要的那些参数赋值；\n"
   ]
  },
  {
   "cell_type": "markdown",
   "metadata": {},
   "source": [
    "\n",
    "### 不定长参数\n",
    "\n",
    "在设计函数的时候，有时候无法确定传入的参数个数，那么就可以使用不定长参数。\n",
    "\n",
    "Python 提供了一种元组的方式来接受没有直接定义的参数。这种方式在参数前边加星号 `*` 。如果在函数调用时没有指定参数，它就是一个空元组。我们也可以不向函数传递未命名的变量。"
   ]
  },
  {
   "cell_type": "code",
   "execution_count": 5,
   "metadata": {},
   "outputs": [
    {
     "name": "stdout",
     "output_type": "stream",
     "text": [
      "昵称：aaa 年龄：18 性别：女 爱好：('篮球', '羽毛球', '跑步')\n"
     ]
    }
   ],
   "source": [
    "def print_user_info( name ,  age  , sex = '男' , * hobby):\n",
    "    # 打印用户信息\n",
    "    print('昵称：{}'.format(name) , end = ' ')\n",
    "    print('年龄：{}'.format(age) , end = ' ')\n",
    "    print('性别：{}'.format(sex) , end = ' ')\n",
    "    print('爱好：{}'.format(hobby))\n",
    "    return;\n",
    "\n",
    "# 调用 print_user_info 函数\n",
    "print_user_info( 'aaa' ,18 , '女', '篮球', '羽毛球', '跑步')"
   ]
  },
  {
   "cell_type": "markdown",
   "metadata": {},
   "source": [
    "通过输出的结果可以知道，`*hobby`是可变参数，且 hobby 是一个 tuple 。\n",
    "\n",
    "可变长参数也支持关键字参数（位置参数），没有被定义的关键参数会被放到一个字典里，这种方式即是在参数前边加 `**`，更改上面的示例如下："
   ]
  },
  {
   "cell_type": "code",
   "execution_count": 6,
   "metadata": {},
   "outputs": [
    {
     "name": "stdout",
     "output_type": "stream",
     "text": [
      "昵称：aaa 年龄：18 性别：女 爱好：{'hobbies': ('篮球', '羽毛球', '跑步')}\n"
     ]
    }
   ],
   "source": [
    "def print_user_info( name ,  age  , sex = '男' , ** hobby ):\n",
    "    # 打印用户信息\n",
    "    print('昵称：{}'.format(name) , end = ' ')\n",
    "    print('年龄：{}'.format(age) , end = ' ')\n",
    "    print('性别：{}'.format(sex) , end = ' ')\n",
    "    print('爱好：{}'.format(hobby))\n",
    "    return;\n",
    "\n",
    "# 调用 print_user_info 函数\n",
    "print_user_info( name = 'aaa' , age = 18 , sex = '女', hobbies = ('篮球','羽毛球','跑步'))"
   ]
  },
  {
   "cell_type": "markdown",
   "metadata": {},
   "source": [
    "通过对比上面的例子可以知道，`*hobby`是**可变参数**，且 hobby 是一个 **tuple** ，`**hobby`是**关键字参数**，且 hobby 是一个 **dict** 。\n",
    "\n",
    "如果不确定要往函数中传入多少个参数，或者想往函数中以列表和元组的形式传参数时，那就使要用`*args`；如果不知道要往函数中传入多少个关键词参数，或者想传入字典的值作为关键词参数时，那就要使用`**kwargs`。"
   ]
  },
  {
   "cell_type": "markdown",
   "metadata": {},
   "source": [
    "### 只接受关键字参数\n",
    "\n",
    "关键字参数使用起来简单，不容易参数出错，那么如果希望某些参数强制使用关键字参数传递，这时候该怎么办呢？将强制关键字参数放到某个`*`参数或者单个`*`后面就能达到这种效果："
   ]
  },
  {
   "cell_type": "code",
   "execution_count": 7,
   "metadata": {},
   "outputs": [
    {
     "name": "stdout",
     "output_type": "stream",
     "text": [
      "昵称：aaa 年龄：18 性别：女\n",
      "昵称：aaa 年龄：22 性别：男\n"
     ]
    }
   ],
   "source": [
    "def print_user_info( name, *, age, sex = '男' ):\n",
    "    # 打印用户信息\n",
    "    print('昵称：{}'.format(name), end = ' ')\n",
    "    print('年龄：{}'.format(age), end = ' ')\n",
    "    print('性别：{}'.format(sex))\n",
    "    return;\n",
    "\n",
    "# 调用 print_user_info 函数\n",
    "print_user_info( name = 'aaa', age = 18 , sex = '女' )\n",
    "# print_user_info( 'aaa' , 18 , '女' ) # 这种写法会报错，因为 age ，sex 这两个参数强制使用关键字参数\n",
    "print_user_info('aaa', age='22', sex='男')"
   ]
  },
  {
   "cell_type": "markdown",
   "metadata": {},
   "source": [
    "使用强制关键字参数会比使用位置参数表意更加清晰，程序更加具有可读性。使用强制关键字参数也会比使用 `**kw` 参数更好，且强制关键字参数在一些高级场合同样也很有用。"
   ]
  },
  {
   "cell_type": "markdown",
   "metadata": {},
   "source": [
    "## 函数传值\n",
    "\n",
    "**在 Python 中，字符串，整形，浮点型，tuple 是不可更改的对象，而 list ， dict 等是可以更改的对象。**\n",
    "\n",
    "**不可更改的类型**：变量赋值 `a = 1`，其实就是生成一个整形对象 1 ，然后变量 a 指向 1，当 `a = 1000` 其实就是再生成一个整形对象 1000，然后改变 a 的指向，不再指向整形对象 1 ，而是指向 1000，最后 1 会被丢弃。\n",
    "\n",
    "**可更改的类型**：变量赋值 `a = [1,2,3,4,5,6]` ，就是生成一个对象 list ，list 里面有 6 个元素，而变量 a 指向 list ，`a[2] = 5`则是将 list a 的第三个元素值更改，这里跟上面不同，并不是将 a 重新指向，而是直接修改 list 中的元素值。\n",
    "\n",
    "这也将影响到函数中参数的传递了：\n",
    "\n",
    "**不可更改的类型**：类似 c++ 的值传递。如 fun（a），传递的只是 a 的值，没有影响 a 对象本身。比如在 fun（a）内部修改 a 的值，只是修改另一个复制的对象，不会影响 a 本身。\n",
    "\n",
    "**可更改的类型**：类似 c++ 的引用传递。如 fun（a），则是将 a 真正的传过去，修改后 fun 外部的 a 也会受影响。"
   ]
  },
  {
   "cell_type": "code",
   "execution_count": 8,
   "metadata": {},
   "outputs": [
    {
     "name": "stdout",
     "output_type": "stream",
     "text": [
      "函数中一开始 b 的值：1\n",
      "函数中 b 赋值后的值：1000\n",
      "最后输出 b 的值：1\n"
     ]
    }
   ],
   "source": [
    "def chagne_number( b ):\n",
    "    print('函数中一开始 b 的值：{}' .format( b ) )\n",
    "    b = 1000\n",
    "    print('函数中 b 赋值后的值：{}' .format( b ) )\n",
    "\n",
    "b = 1\n",
    "chagne_number( b )\n",
    "print('最后输出 b 的值：{}' .format( b ) )"
   ]
  },
  {
   "cell_type": "code",
   "execution_count": 9,
   "metadata": {},
   "outputs": [
    {
     "name": "stdout",
     "output_type": "stream",
     "text": [
      "函数中一开始 b 的值：[1, 2, 3, 4, 5]\n",
      "函数中 b 赋值后的值：[1, 2, 3, 4, 5, 1000]\n",
      "最后输出 b 的值：[1, 2, 3, 4, 5, 1000]\n"
     ]
    }
   ],
   "source": [
    "def chagne_list( b ):\n",
    "    print('函数中一开始 b 的值：{}' .format( b ) )\n",
    "    b.append(1000)\n",
    "    print('函数中 b 赋值后的值：{}' .format( b ) )\n",
    "\n",
    "b = [1,2,3,4,5]\n",
    "chagne_list( b )\n",
    "print( '最后输出 b 的值：{}' .format( b )  )"
   ]
  },
  {
   "cell_type": "markdown",
   "metadata": {},
   "source": [
    "## 匿名函数\n",
    "\n",
    "python 使用 lambda 来创建匿名函数。匿名函数主要有以下特点：\n",
    "\n",
    "- lambda 只是一个表达式，函数体比 def 简单很多。\n",
    "- lambda 的主体是一个表达式，而不是一个代码块。仅能在 lambda 表达式中封装有限的逻辑进去。\n",
    "- lambda 函数拥有自己的命名空间，且不能访问自有参数列表之外或全局命名空间里的参数。\n",
    "\n",
    "```python\n",
    "lambda [arg1 [,arg2,.....argn]]: expression\n",
    "```"
   ]
  },
  {
   "cell_type": "code",
   "execution_count": 10,
   "metadata": {},
   "outputs": [
    {
     "name": "stdout",
     "output_type": "stream",
     "text": [
      "3\n"
     ]
    }
   ],
   "source": [
    "# -*- coding: UTF-8 -*-\n",
    "sum = lambda num1 , num2 : num1 + num2\n",
    "print( sum( 1 , 2 ) )"
   ]
  },
  {
   "cell_type": "markdown",
   "metadata": {},
   "source": [
    "**尽管 lambda 表达式允许定义简单函数，但是它的使用是有限的。只能指定单个表达式，它的值就是最后的返回值。不能包含其他的语言特性，包括多个语句、条件表达式、迭代以及异常处理等等。**"
   ]
  },
  {
   "cell_type": "markdown",
   "metadata": {},
   "source": [
    "# 偷懒用法\n",
    "\n",
    "# lambda\n",
    "不是正式功能，临时使用的时候可以用"
   ]
  },
  {
   "cell_type": "code",
   "execution_count": 11,
   "metadata": {},
   "outputs": [
    {
     "name": "stdout",
     "output_type": "stream",
     "text": [
      "3\n"
     ]
    }
   ],
   "source": [
    "add = lambda a, b: a+b\n",
    "print(add(1,2))"
   ]
  },
  {
   "cell_type": "markdown",
   "metadata": {},
   "source": [
    "## 一行for"
   ]
  },
  {
   "cell_type": "code",
   "execution_count": 12,
   "metadata": {},
   "outputs": [
    {
     "name": "stdout",
     "output_type": "stream",
     "text": [
      "[0, 2, 4, 6, 8, 10, 12, 14, 16, 18]\n",
      "{'index0': 0, 'index1': 1, 'index2': 4, 'index3': 9, 'index4': 16, 'index5': 25, 'index6': 36, 'index7': 49, 'index8': 64, 'index9': 81}\n"
     ]
    }
   ],
   "source": [
    "print([i*2 for i in range(10)])\n",
    "print({\"index\"+str(i): i**2 for i in range(10)})"
   ]
  },
  {
   "cell_type": "markdown",
   "metadata": {},
   "source": [
    "## 一行判断"
   ]
  },
  {
   "cell_type": "code",
   "execution_count": 13,
   "metadata": {},
   "outputs": [
    {
     "name": "stdout",
     "output_type": "stream",
     "text": [
      "2\n"
     ]
    }
   ],
   "source": [
    "done = False\n",
    "a = 1 if done else 2\n",
    "print(a)"
   ]
  },
  {
   "cell_type": "markdown",
   "metadata": {},
   "source": [
    "## 一行for + 判断"
   ]
  },
  {
   "cell_type": "code",
   "execution_count": 14,
   "metadata": {},
   "outputs": [
    {
     "name": "stdout",
     "output_type": "stream",
     "text": [
      "[0, 4, 8, 12, 16]\n",
      "{'index0': 0, 'index2': 4, 'index4': 8, 'index6': 12, 'index8': 16}\n"
     ]
    }
   ],
   "source": [
    "print([i*2 for i in range(10) if i%2==0])\n",
    "print({\"index\"+str(i): i*2 for i in range(10) if i % 2 == 0})"
   ]
  },
  {
   "cell_type": "markdown",
   "metadata": {},
   "source": [
    "## enumerate 自动加 index\n",
    "在 for 里面记个数，到某个数的时候做点特殊处理，可以用 enumerate"
   ]
  },
  {
   "cell_type": "code",
   "execution_count": 15,
   "metadata": {},
   "outputs": [
    {
     "name": "stdout",
     "output_type": "stream",
     "text": [
      "[11, 22, 44, 44]\n"
     ]
    }
   ],
   "source": [
    "l = [11,22,33,44]\n",
    "for count, data in enumerate(l):\n",
    "    if count == 2:\n",
    "        data += 11\n",
    "    l[count] = data\n",
    "print(l)"
   ]
  },
  {
   "cell_type": "markdown",
   "metadata": {},
   "source": [
    "还可以初始化 count 到不同的数值"
   ]
  },
  {
   "cell_type": "code",
   "execution_count": 16,
   "metadata": {},
   "outputs": [
    {
     "name": "stdout",
     "output_type": "stream",
     "text": [
      "{5: 11, 6: 22, 7: 33, 8: 44}\n"
     ]
    }
   ],
   "source": [
    "l = [11,22,33,44]\n",
    "d = {}\n",
    "for count, data in enumerate(l, start=5):\n",
    "    d[count] = data\n",
    "print(d)"
   ]
  },
  {
   "cell_type": "markdown",
   "metadata": {},
   "source": [
    "## Zip 让你同时迭代"
   ]
  },
  {
   "cell_type": "code",
   "execution_count": 17,
   "metadata": {},
   "outputs": [
    {
     "name": "stdout",
     "output_type": "stream",
     "text": [
      "{'a': 1, 'b': 2, 'c': 3}\n"
     ]
    }
   ],
   "source": [
    "name = [\"a\", \"b\", \"c\"]\n",
    "score = [1,2,3]\n",
    "d = {}\n",
    "for n, s in zip(name, score):\n",
    "    d[n]=s\n",
    "print(d)"
   ]
  },
  {
   "cell_type": "code",
   "execution_count": 18,
   "metadata": {},
   "outputs": [
    {
     "name": "stdout",
     "output_type": "stream",
     "text": [
      "{'a': 2, 'b': 2, 'c': 4}\n"
     ]
    }
   ],
   "source": [
    "name = [\"a\", \"b\", \"c\"]\n",
    "score = [1,2,3]\n",
    "bonus = [1,0,1]\n",
    "d = {}\n",
    "for n, s, b in zip(name, score, bonus):\n",
    "    d[n]=s+b\n",
    "print(d)"
   ]
  },
  {
   "cell_type": "markdown",
   "metadata": {},
   "source": [
    "## reverse & reversed"
   ]
  },
  {
   "cell_type": "code",
   "execution_count": 19,
   "metadata": {},
   "outputs": [
    {
     "name": "stdout",
     "output_type": "stream",
     "text": [
      "[3, 2, 1]\n"
     ]
    }
   ],
   "source": [
    "l = [1,2,3]\n",
    "l.reverse()\n",
    "print(l)"
   ]
  },
  {
   "cell_type": "code",
   "execution_count": 20,
   "metadata": {},
   "outputs": [
    {
     "name": "stdout",
     "output_type": "stream",
     "text": [
      "3\n",
      "2\n",
      "1\n"
     ]
    }
   ],
   "source": [
    "l = [1,2,3]\n",
    "for i in reversed(l):\n",
    "    print(i)"
   ]
  },
  {
   "cell_type": "code",
   "execution_count": 21,
   "metadata": {},
   "outputs": [
    {
     "name": "stdout",
     "output_type": "stream",
     "text": [
      "[1, 2, 3]\n",
      "[3, 2, 1]\n"
     ]
    }
   ],
   "source": [
    "#  copy 出一个浅拷贝副本的反转\n",
    "l = [1,2,3]\n",
    "_l = l[::-1]\n",
    "print(l)\n",
    "print(_l)"
   ]
  }
 ],
 "metadata": {
  "kernelspec": {
   "display_name": "Python 3",
   "language": "python",
   "name": "python3"
  },
  "language_info": {
   "codemirror_mode": {
    "name": "ipython",
    "version": 3
   },
   "file_extension": ".py",
   "mimetype": "text/x-python",
   "name": "python",
   "nbconvert_exporter": "python",
   "pygments_lexer": "ipython3",
   "version": "3.11.10"
  },
  "orig_nbformat": 4
 },
 "nbformat": 4,
 "nbformat_minor": 2
}
